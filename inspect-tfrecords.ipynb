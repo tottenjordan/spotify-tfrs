{
 "cells": [
  {
   "cell_type": "code",
   "execution_count": 98,
   "id": "7b1fd119-64b6-4080-931d-c587ec9c71b8",
   "metadata": {},
   "outputs": [
    {
     "name": "stdout",
     "output_type": "stream",
     "text": [
      "/home/jupyter/spotify-tfrs\n"
     ]
    }
   ],
   "source": [
    "!pwd"
   ]
  },
  {
   "cell_type": "code",
   "execution_count": 100,
   "id": "06311698-a316-4f77-aedc-6d6da1c4e1d2",
   "metadata": {},
   "outputs": [
    {
     "data": {
      "text/plain": [
       "'/home/jupyter/spotify-tfrs'"
      ]
     },
     "execution_count": 100,
     "metadata": {},
     "output_type": "execute_result"
    }
   ],
   "source": [
    "import os\n",
    "os.chdir('/home/jupyter/spotify-tfrs') # spotify-tfrs/moverecords.sh\n",
    "os.getcwd()"
   ]
  },
  {
   "cell_type": "code",
   "execution_count": 101,
   "id": "edbc7da3-3a4f-44b7-9356-284000b42637",
   "metadata": {},
   "outputs": [
    {
     "name": "stdout",
     "output_type": "stream",
     "text": [
      "#!/bin/bash\n",
      "\n",
      "bucket_name=spotify-beam-v3\n",
      "substring_list=(\n",
      "  00111.tfrecords\n",
      ")\n",
      "\n",
      "for substring in \"${substring_list[@]}\"; do\n",
      "   gsutil cp gs://$bucket_name/v6/train_last_5/*$substring* gs://$bucket_name/v6/train_last_5_v2/\n",
      "done"
     ]
    },
    {
     "name": "stderr",
     "output_type": "stream",
     "text": [
      "sh: 2: ./moverecords.sh: Permission denied\n"
     ]
    },
    {
     "ename": "CalledProcessError",
     "evalue": "Command 'b'cat moverecords.sh \\n./moverecords.sh\\n'' returned non-zero exit status 126.",
     "output_type": "error",
     "traceback": [
      "\u001b[0;31m---------------------------------------------------------------------------\u001b[0m",
      "\u001b[0;31mCalledProcessError\u001b[0m                        Traceback (most recent call last)",
      "\u001b[0;32m/tmp/ipykernel_20661/2330393133.py\u001b[0m in \u001b[0;36m<module>\u001b[0;34m\u001b[0m\n\u001b[0;32m----> 1\u001b[0;31m \u001b[0mget_ipython\u001b[0m\u001b[0;34m(\u001b[0m\u001b[0;34m)\u001b[0m\u001b[0;34m.\u001b[0m\u001b[0mrun_cell_magic\u001b[0m\u001b[0;34m(\u001b[0m\u001b[0;34m'sh'\u001b[0m\u001b[0;34m,\u001b[0m \u001b[0;34m''\u001b[0m\u001b[0;34m,\u001b[0m \u001b[0;34m'cat moverecords.sh \\n./moverecords.sh\\n'\u001b[0m\u001b[0;34m)\u001b[0m\u001b[0;34m\u001b[0m\u001b[0;34m\u001b[0m\u001b[0m\n\u001b[0m",
      "\u001b[0;32m/opt/conda/lib/python3.7/site-packages/IPython/core/interactiveshell.py\u001b[0m in \u001b[0;36mrun_cell_magic\u001b[0;34m(self, magic_name, line, cell)\u001b[0m\n\u001b[1;32m   2470\u001b[0m             \u001b[0;32mwith\u001b[0m \u001b[0mself\u001b[0m\u001b[0;34m.\u001b[0m\u001b[0mbuiltin_trap\u001b[0m\u001b[0;34m:\u001b[0m\u001b[0;34m\u001b[0m\u001b[0;34m\u001b[0m\u001b[0m\n\u001b[1;32m   2471\u001b[0m                 \u001b[0margs\u001b[0m \u001b[0;34m=\u001b[0m \u001b[0;34m(\u001b[0m\u001b[0mmagic_arg_s\u001b[0m\u001b[0;34m,\u001b[0m \u001b[0mcell\u001b[0m\u001b[0;34m)\u001b[0m\u001b[0;34m\u001b[0m\u001b[0;34m\u001b[0m\u001b[0m\n\u001b[0;32m-> 2472\u001b[0;31m                 \u001b[0mresult\u001b[0m \u001b[0;34m=\u001b[0m \u001b[0mfn\u001b[0m\u001b[0;34m(\u001b[0m\u001b[0;34m*\u001b[0m\u001b[0margs\u001b[0m\u001b[0;34m,\u001b[0m \u001b[0;34m**\u001b[0m\u001b[0mkwargs\u001b[0m\u001b[0;34m)\u001b[0m\u001b[0;34m\u001b[0m\u001b[0;34m\u001b[0m\u001b[0m\n\u001b[0m\u001b[1;32m   2473\u001b[0m             \u001b[0;32mreturn\u001b[0m \u001b[0mresult\u001b[0m\u001b[0;34m\u001b[0m\u001b[0;34m\u001b[0m\u001b[0m\n\u001b[1;32m   2474\u001b[0m \u001b[0;34m\u001b[0m\u001b[0m\n",
      "\u001b[0;32m/opt/conda/lib/python3.7/site-packages/IPython/core/magics/script.py\u001b[0m in \u001b[0;36mnamed_script_magic\u001b[0;34m(line, cell)\u001b[0m\n\u001b[1;32m    140\u001b[0m             \u001b[0;32melse\u001b[0m\u001b[0;34m:\u001b[0m\u001b[0;34m\u001b[0m\u001b[0;34m\u001b[0m\u001b[0m\n\u001b[1;32m    141\u001b[0m                 \u001b[0mline\u001b[0m \u001b[0;34m=\u001b[0m \u001b[0mscript\u001b[0m\u001b[0;34m\u001b[0m\u001b[0;34m\u001b[0m\u001b[0m\n\u001b[0;32m--> 142\u001b[0;31m             \u001b[0;32mreturn\u001b[0m \u001b[0mself\u001b[0m\u001b[0;34m.\u001b[0m\u001b[0mshebang\u001b[0m\u001b[0;34m(\u001b[0m\u001b[0mline\u001b[0m\u001b[0;34m,\u001b[0m \u001b[0mcell\u001b[0m\u001b[0;34m)\u001b[0m\u001b[0;34m\u001b[0m\u001b[0;34m\u001b[0m\u001b[0m\n\u001b[0m\u001b[1;32m    143\u001b[0m \u001b[0;34m\u001b[0m\u001b[0m\n\u001b[1;32m    144\u001b[0m         \u001b[0;31m# write a basic docstring:\u001b[0m\u001b[0;34m\u001b[0m\u001b[0;34m\u001b[0m\u001b[0;34m\u001b[0m\u001b[0m\n",
      "\u001b[0;32m/opt/conda/lib/python3.7/site-packages/decorator.py\u001b[0m in \u001b[0;36mfun\u001b[0;34m(*args, **kw)\u001b[0m\n\u001b[1;32m    230\u001b[0m             \u001b[0;32mif\u001b[0m \u001b[0;32mnot\u001b[0m \u001b[0mkwsyntax\u001b[0m\u001b[0;34m:\u001b[0m\u001b[0;34m\u001b[0m\u001b[0;34m\u001b[0m\u001b[0m\n\u001b[1;32m    231\u001b[0m                 \u001b[0margs\u001b[0m\u001b[0;34m,\u001b[0m \u001b[0mkw\u001b[0m \u001b[0;34m=\u001b[0m \u001b[0mfix\u001b[0m\u001b[0;34m(\u001b[0m\u001b[0margs\u001b[0m\u001b[0;34m,\u001b[0m \u001b[0mkw\u001b[0m\u001b[0;34m,\u001b[0m \u001b[0msig\u001b[0m\u001b[0;34m)\u001b[0m\u001b[0;34m\u001b[0m\u001b[0;34m\u001b[0m\u001b[0m\n\u001b[0;32m--> 232\u001b[0;31m             \u001b[0;32mreturn\u001b[0m \u001b[0mcaller\u001b[0m\u001b[0;34m(\u001b[0m\u001b[0mfunc\u001b[0m\u001b[0;34m,\u001b[0m \u001b[0;34m*\u001b[0m\u001b[0;34m(\u001b[0m\u001b[0mextras\u001b[0m \u001b[0;34m+\u001b[0m \u001b[0margs\u001b[0m\u001b[0;34m)\u001b[0m\u001b[0;34m,\u001b[0m \u001b[0;34m**\u001b[0m\u001b[0mkw\u001b[0m\u001b[0;34m)\u001b[0m\u001b[0;34m\u001b[0m\u001b[0;34m\u001b[0m\u001b[0m\n\u001b[0m\u001b[1;32m    233\u001b[0m     \u001b[0mfun\u001b[0m\u001b[0;34m.\u001b[0m\u001b[0m__name__\u001b[0m \u001b[0;34m=\u001b[0m \u001b[0mfunc\u001b[0m\u001b[0;34m.\u001b[0m\u001b[0m__name__\u001b[0m\u001b[0;34m\u001b[0m\u001b[0;34m\u001b[0m\u001b[0m\n\u001b[1;32m    234\u001b[0m     \u001b[0mfun\u001b[0m\u001b[0;34m.\u001b[0m\u001b[0m__doc__\u001b[0m \u001b[0;34m=\u001b[0m \u001b[0mfunc\u001b[0m\u001b[0;34m.\u001b[0m\u001b[0m__doc__\u001b[0m\u001b[0;34m\u001b[0m\u001b[0;34m\u001b[0m\u001b[0m\n",
      "\u001b[0;32m/opt/conda/lib/python3.7/site-packages/IPython/core/magic.py\u001b[0m in \u001b[0;36m<lambda>\u001b[0;34m(f, *a, **k)\u001b[0m\n\u001b[1;32m    185\u001b[0m     \u001b[0;31m# but it's overkill for just that one bit of state.\u001b[0m\u001b[0;34m\u001b[0m\u001b[0;34m\u001b[0m\u001b[0;34m\u001b[0m\u001b[0m\n\u001b[1;32m    186\u001b[0m     \u001b[0;32mdef\u001b[0m \u001b[0mmagic_deco\u001b[0m\u001b[0;34m(\u001b[0m\u001b[0marg\u001b[0m\u001b[0;34m)\u001b[0m\u001b[0;34m:\u001b[0m\u001b[0;34m\u001b[0m\u001b[0;34m\u001b[0m\u001b[0m\n\u001b[0;32m--> 187\u001b[0;31m         \u001b[0mcall\u001b[0m \u001b[0;34m=\u001b[0m \u001b[0;32mlambda\u001b[0m \u001b[0mf\u001b[0m\u001b[0;34m,\u001b[0m \u001b[0;34m*\u001b[0m\u001b[0ma\u001b[0m\u001b[0;34m,\u001b[0m \u001b[0;34m**\u001b[0m\u001b[0mk\u001b[0m\u001b[0;34m:\u001b[0m \u001b[0mf\u001b[0m\u001b[0;34m(\u001b[0m\u001b[0;34m*\u001b[0m\u001b[0ma\u001b[0m\u001b[0;34m,\u001b[0m \u001b[0;34m**\u001b[0m\u001b[0mk\u001b[0m\u001b[0;34m)\u001b[0m\u001b[0;34m\u001b[0m\u001b[0;34m\u001b[0m\u001b[0m\n\u001b[0m\u001b[1;32m    188\u001b[0m \u001b[0;34m\u001b[0m\u001b[0m\n\u001b[1;32m    189\u001b[0m         \u001b[0;32mif\u001b[0m \u001b[0mcallable\u001b[0m\u001b[0;34m(\u001b[0m\u001b[0marg\u001b[0m\u001b[0;34m)\u001b[0m\u001b[0;34m:\u001b[0m\u001b[0;34m\u001b[0m\u001b[0;34m\u001b[0m\u001b[0m\n",
      "\u001b[0;32m/opt/conda/lib/python3.7/site-packages/IPython/core/magics/script.py\u001b[0m in \u001b[0;36mshebang\u001b[0;34m(self, line, cell)\u001b[0m\n\u001b[1;32m    243\u001b[0m             \u001b[0msys\u001b[0m\u001b[0;34m.\u001b[0m\u001b[0mstderr\u001b[0m\u001b[0;34m.\u001b[0m\u001b[0mflush\u001b[0m\u001b[0;34m(\u001b[0m\u001b[0;34m)\u001b[0m\u001b[0;34m\u001b[0m\u001b[0;34m\u001b[0m\u001b[0m\n\u001b[1;32m    244\u001b[0m         \u001b[0;32mif\u001b[0m \u001b[0margs\u001b[0m\u001b[0;34m.\u001b[0m\u001b[0mraise_error\u001b[0m \u001b[0;32mand\u001b[0m \u001b[0mp\u001b[0m\u001b[0;34m.\u001b[0m\u001b[0mreturncode\u001b[0m\u001b[0;34m!=\u001b[0m\u001b[0;36m0\u001b[0m\u001b[0;34m:\u001b[0m\u001b[0;34m\u001b[0m\u001b[0;34m\u001b[0m\u001b[0m\n\u001b[0;32m--> 245\u001b[0;31m             \u001b[0;32mraise\u001b[0m \u001b[0mCalledProcessError\u001b[0m\u001b[0;34m(\u001b[0m\u001b[0mp\u001b[0m\u001b[0;34m.\u001b[0m\u001b[0mreturncode\u001b[0m\u001b[0;34m,\u001b[0m \u001b[0mcell\u001b[0m\u001b[0;34m,\u001b[0m \u001b[0moutput\u001b[0m\u001b[0;34m=\u001b[0m\u001b[0mout\u001b[0m\u001b[0;34m,\u001b[0m \u001b[0mstderr\u001b[0m\u001b[0;34m=\u001b[0m\u001b[0merr\u001b[0m\u001b[0;34m)\u001b[0m\u001b[0;34m\u001b[0m\u001b[0;34m\u001b[0m\u001b[0m\n\u001b[0m\u001b[1;32m    246\u001b[0m \u001b[0;34m\u001b[0m\u001b[0m\n\u001b[1;32m    247\u001b[0m     \u001b[0;32mdef\u001b[0m \u001b[0m_run_script\u001b[0m\u001b[0;34m(\u001b[0m\u001b[0mself\u001b[0m\u001b[0;34m,\u001b[0m \u001b[0mp\u001b[0m\u001b[0;34m,\u001b[0m \u001b[0mcell\u001b[0m\u001b[0;34m,\u001b[0m \u001b[0mto_close\u001b[0m\u001b[0;34m)\u001b[0m\u001b[0;34m:\u001b[0m\u001b[0;34m\u001b[0m\u001b[0;34m\u001b[0m\u001b[0m\n",
      "\u001b[0;31mCalledProcessError\u001b[0m: Command 'b'cat moverecords.sh \\n./moverecords.sh\\n'' returned non-zero exit status 126."
     ]
    }
   ],
   "source": [
    "%%sh\n",
    "cat moverecords.sh \n",
    "./moverecords.sh"
   ]
  },
  {
   "cell_type": "code",
   "execution_count": 31,
   "id": "593249d2-e6a1-4088-87b1-35cdea80e89f",
   "metadata": {},
   "outputs": [],
   "source": [
    "PROJECT_ID = 'hybrid-vertex'  # <--- TODO: CHANGE THIS\n",
    "LOCATION = 'us-central1' \n",
    "\n",
    "import json\n",
    "import tensorflow as tf\n",
    "import tensorflow_recommenders as tfrs\n",
    "\n",
    "from google.cloud import storage\n",
    "\n",
    "import numpy as np\n",
    "import pickle as pkl\n",
    "from pprint import pprint"
   ]
  },
  {
   "cell_type": "code",
   "execution_count": 70,
   "id": "8b0625ea-2e60-4608-aad9-4a718e3c472e",
   "metadata": {},
   "outputs": [
    {
     "name": "stdout",
     "output_type": "stream",
     "text": [
      "task_type: worker\n",
      "task_id_: 1\n"
     ]
    }
   ],
   "source": [
    "def _is_chief(task_type, task_id): \n",
    "    ''' Check for primary if multiworker training\n",
    "    '''\n",
    "    return (task_type == 'chief') or (task_type == 'worker' and task_id == 0) or task_type is None\n",
    "\n",
    "# task_type_ = 'chief'\n",
    "task_type_ = 'worker'\n",
    "task_id_ = 1\n",
    "# task_id_ = 0\n",
    "\n",
    "print(f'task_type: {task_type_}')\n",
    "print(f'task_id_: {task_id_}')"
   ]
  },
  {
   "cell_type": "code",
   "execution_count": 71,
   "id": "c03bea81-1f64-4334-8be5-8bf75e08288e",
   "metadata": {},
   "outputs": [
    {
     "name": "stdout",
     "output_type": "stream",
     "text": [
      "else: not chief\n",
      "task_type: worker\n",
      "task_id_: 1\n"
     ]
    }
   ],
   "source": [
    "if _is_chief(task_type_, task_id_):\n",
    "    print('if _is_chief')\n",
    "    print(f'task_type: {task_type_}')\n",
    "    print(f'task_id_: {task_id_}')\n",
    "else:\n",
    "    print('else: not chief')\n",
    "    print(f'task_type: {task_type_}')\n",
    "    print(f'task_id_: {task_id_}')\n",
    "\n",
    "# if _is_chief(task_type, task_id):\n",
    "#     logging.info(f\"_is_chief task_type:{task_type}\")\n",
    "#     logging.info(f\"_is_chief task_id:{task_id}\")\n",
    "#     with vertex_ai.start_run(RUN_NAME) as my_run:\n",
    "#         logging.info(f\"logging metaparams\")\n",
    "#         my_run.log_params(metaparams)\n",
    "\n",
    "#         logging.info(f\"logging hyperparams\")\n",
    "#         my_run.log_params(hyperparams)"
   ]
  },
  {
   "cell_type": "code",
   "execution_count": 11,
   "id": "82a3c8ec-3044-4dfe-bd86-05498817a2be",
   "metadata": {},
   "outputs": [],
   "source": [
    "# i = 0\n",
    "# for elem in raw_dataset: \n",
    "#     i = i + 1\n",
    "    \n",
    "# i"
   ]
  },
  {
   "cell_type": "markdown",
   "id": "20264ffb-88f2-4fb5-a3ad-3713729ece35",
   "metadata": {},
   "source": [
    "# V3"
   ]
  },
  {
   "cell_type": "markdown",
   "id": "381064f3-f4ad-46aa-8aaa-340ad4610f2c",
   "metadata": {},
   "source": [
    "## v3 - train"
   ]
  },
  {
   "cell_type": "code",
   "execution_count": 9,
   "id": "11d43a30-fd24-43d6-8cb0-a5ae158bb169",
   "metadata": {
    "tags": []
   },
   "outputs": [
    {
     "name": "stdout",
     "output_type": "stream",
     "text": [
      "features {\n",
      "  feature {\n",
      "    key: \"album_name_can\"\n",
      "    value {\n",
      "      bytes_list {\n",
      "        value: \"I Love You.\"\n",
      "      }\n",
      "    }\n",
      "  }\n",
      "  feature {\n",
      "    key: \"album_name_seed_track\"\n",
      "    value {\n",
      "      bytes_list {\n",
      "        value: \"LOVETAP!\"\n",
      "      }\n",
      "    }\n",
      "  }\n",
      "  feature {\n",
      "    key: \"album_uri_can\"\n",
      "    value {\n",
      "      bytes_list {\n",
      "        value: \"spotify:album:4xkM0BwLM9H2IUcbYzpcBI\"\n",
      "      }\n",
      "    }\n",
      "  }\n",
      "  feature {\n",
      "    key: \"album_uri_seed_track\"\n",
      "    value {\n",
      "      bytes_list {\n",
      "        value: \"spotify:album:59xqFRG2IgFTsZtQ73yIp6\"\n",
      "      }\n",
      "    }\n",
      "  }\n",
      "  feature {\n",
      "    key: \"artist_followers_can\"\n",
      "    value {\n",
      "      float_list {\n",
      "        value: 8447277.0\n",
      "      }\n",
      "    }\n",
      "  }\n",
      "  feature {\n",
      "    key: \"artist_followers_seed_track\"\n",
      "    value {\n",
      "      float_list {\n",
      "        value: 224020.0\n",
      "      }\n",
      "    }\n",
      "  }\n",
      "  feature {\n",
      "    key: \"artist_genres_can\"\n",
      "    value {\n",
      "      bytes_list {\n",
      "        value: \"\\'modern alternative rock\\', \\'modern rock\\', \\'pop\\'\"\n",
      "      }\n",
      "    }\n",
      "  }\n",
      "  feature {\n",
      "    key: \"artist_genres_seed_track\"\n",
      "    value {\n",
      "      bytes_list {\n",
      "        value: \"\\'electropop\\', \\'hopebeat\\', \\'indie poptimism\\', \\'la indie\\', \\'la pop\\', \\'metropopolis\\', \\'modern alternative rock\\', \\'modern rock\\', \\'pop rock\\'\"\n",
      "      }\n",
      "    }\n",
      "  }\n",
      "  feature {\n",
      "    key: \"artist_name_can\"\n",
      "    value {\n",
      "      bytes_list {\n",
      "        value: \"The Neighbourhood\"\n",
      "      }\n",
      "    }\n",
      "  }\n",
      "  feature {\n",
      "    key: \"artist_name_seed_track\"\n",
      "    value {\n",
      "      bytes_list {\n",
      "        value: \"Smallpools\"\n",
      "      }\n",
      "    }\n",
      "  }\n",
      "  feature {\n",
      "    key: \"artist_pop_can\"\n",
      "    value {\n",
      "      float_list {\n",
      "        value: 89.0\n",
      "      }\n",
      "    }\n",
      "  }\n",
      "  feature {\n",
      "    key: \"artist_pop_seed_track\"\n",
      "    value {\n",
      "      float_list {\n",
      "        value: 59.0\n",
      "      }\n",
      "    }\n",
      "  }\n",
      "  feature {\n",
      "    key: \"artist_uri_can\"\n",
      "    value {\n",
      "      bytes_list {\n",
      "        value: \"spotify:artist:77SW9BnxLY8rJ0RciFqkHh\"\n",
      "      }\n",
      "    }\n",
      "  }\n",
      "  feature {\n",
      "    key: \"artist_uri_seed_track\"\n",
      "    value {\n",
      "      bytes_list {\n",
      "        value: \"spotify:artist:4iiQabGKtS2RtTKpVkrVTw\"\n",
      "      }\n",
      "    }\n",
      "  }\n",
      "  feature {\n",
      "    key: \"collaborative\"\n",
      "    value {\n",
      "      bytes_list {\n",
      "        value: \"false\"\n",
      "      }\n",
      "    }\n",
      "  }\n",
      "  feature {\n",
      "    key: \"description_pl\"\n",
      "    value {\n",
      "      bytes_list {\n",
      "        value: \"\"\n",
      "      }\n",
      "    }\n",
      "  }\n",
      "  feature {\n",
      "    key: \"duration_ms_can\"\n",
      "    value {\n",
      "      float_list {\n",
      "        value: 240400.0\n",
      "      }\n",
      "    }\n",
      "  }\n",
      "  feature {\n",
      "    key: \"duration_seed_track\"\n",
      "    value {\n",
      "      float_list {\n",
      "        value: 216253.0\n",
      "      }\n",
      "    }\n",
      "  }\n",
      "  feature {\n",
      "    key: \"n_songs_pl\"\n",
      "    value {\n",
      "      float_list {\n",
      "        value: 12.0\n",
      "      }\n",
      "    }\n",
      "  }\n",
      "  feature {\n",
      "    key: \"name\"\n",
      "    value {\n",
      "      bytes_list {\n",
      "        value: \"indie\"\n",
      "      }\n",
      "    }\n",
      "  }\n",
      "  feature {\n",
      "    key: \"num_albums_pl\"\n",
      "    value {\n",
      "      float_list {\n",
      "        value: 10.0\n",
      "      }\n",
      "    }\n",
      "  }\n",
      "  feature {\n",
      "    key: \"num_artists_pl\"\n",
      "    value {\n",
      "      float_list {\n",
      "        value: 7.0\n",
      "      }\n",
      "    }\n",
      "  }\n",
      "  feature {\n",
      "    key: \"track_name_can\"\n",
      "    value {\n",
      "      bytes_list {\n",
      "        value: \"Sweater Weather\"\n",
      "      }\n",
      "    }\n",
      "  }\n",
      "  feature {\n",
      "    key: \"track_name_seed_track\"\n",
      "    value {\n",
      "      bytes_list {\n",
      "        value: \"Dreaming\"\n",
      "      }\n",
      "    }\n",
      "  }\n",
      "  feature {\n",
      "    key: \"track_pop_can\"\n",
      "    value {\n",
      "      float_list {\n",
      "        value: 94.0\n",
      "      }\n",
      "    }\n",
      "  }\n",
      "  feature {\n",
      "    key: \"track_pop_seed_track\"\n",
      "    value {\n",
      "      float_list {\n",
      "        value: 64.0\n",
      "      }\n",
      "    }\n",
      "  }\n",
      "  feature {\n",
      "    key: \"track_uri_can\"\n",
      "    value {\n",
      "      bytes_list {\n",
      "        value: \"spotify:track:2QjOHCTQ1Jl3zawyYOpxh6\"\n",
      "      }\n",
      "    }\n",
      "  }\n",
      "  feature {\n",
      "    key: \"track_uri_seed_track\"\n",
      "    value {\n",
      "      bytes_list {\n",
      "        value: \"spotify:track:6cMswWRv4lAU3mh5lclgCc\"\n",
      "      }\n",
      "    }\n",
      "  }\n",
      "}\n",
      "\n"
     ]
    }
   ],
   "source": [
    "# SAMPLE_FILE = \"gs://spotify-beam-v3/v3/train/-00000-of-05106.tfrecords\" # 8474\n",
    "# SAMPLE_FILE = \"gs://spotify-beam-v3/v3/train/-00001-of-05106.tfrecords\" # 8461\n",
    "SAMPLE_FILE = \"gs://spotify-beam-v3/v3/train/-00002-of-05106.tfrecords\" # 8461\n",
    "raw_dataset = tf.data.TFRecordDataset(SAMPLE_FILE)\n",
    "\n",
    "for raw_record in raw_dataset.take(1):\n",
    "    example = tf.train.Example()\n",
    "    example.ParseFromString(raw_record.numpy())\n",
    "    print(example)"
   ]
  },
  {
   "cell_type": "code",
   "execution_count": 10,
   "id": "5cd36d6c-ab71-42dd-a4da-4c108f54bb7d",
   "metadata": {},
   "outputs": [
    {
     "data": {
      "text/plain": [
       "<tf.Tensor: shape=(), dtype=int64, numpy=8461>"
      ]
     },
     "execution_count": 10,
     "metadata": {},
     "output_type": "execute_result"
    }
   ],
   "source": [
    "cnt = raw_dataset.reduce(np.int64(0), lambda x, _: x + 1)\n",
    "cnt"
   ]
  },
  {
   "cell_type": "markdown",
   "id": "1298b1ef-f732-4c86-998c-4d278cd010b6",
   "metadata": {},
   "source": [
    "## v3 - valid"
   ]
  },
  {
   "cell_type": "code",
   "execution_count": 18,
   "id": "3f07f4d0-8442-4e3e-9044-75afe80268d0",
   "metadata": {},
   "outputs": [
    {
     "data": {
      "text/plain": [
       "<tf.Tensor: shape=(), dtype=int64, numpy=9421>"
      ]
     },
     "execution_count": 18,
     "metadata": {},
     "output_type": "execute_result"
    }
   ],
   "source": [
    "# SAMPLE_FILE = \"gs://spotify-beam-v3/v3/valid/-00000-of-00510.tfrecords\" # 9420\n",
    "# SAMPLE_FILE = \"gs://spotify-beam-v3/v3/valid/-00001-of-00510.tfrecords\" # 9420\n",
    "SAMPLE_FILE = \"gs://spotify-beam-v3/v3/valid/-00002-of-00510.tfrecords\" # 9421\n",
    "raw_dataset = tf.data.TFRecordDataset(SAMPLE_FILE)\n",
    "\n",
    "cnt = raw_dataset.reduce(np.int64(0), lambda x, _: x + 1)\n",
    "cnt"
   ]
  },
  {
   "cell_type": "code",
   "execution_count": 20,
   "id": "ce8e56ce-2095-4211-8c16-072e04b26b81",
   "metadata": {},
   "outputs": [],
   "source": [
    "# i = 0\n",
    "# for elem in raw_dataset: \n",
    "#     i = i + 1\n",
    "    \n",
    "# i"
   ]
  },
  {
   "cell_type": "markdown",
   "id": "ac76e4a8-15aa-4541-9c19-94463efd63a4",
   "metadata": {},
   "source": [
    "## v3 - dif_artist_train"
   ]
  },
  {
   "cell_type": "code",
   "execution_count": 17,
   "id": "9f2b5249-0046-4139-b720-c2250b6b0778",
   "metadata": {},
   "outputs": [
    {
     "data": {
      "text/plain": [
       "<tf.Tensor: shape=(), dtype=int64, numpy=9404>"
      ]
     },
     "execution_count": 17,
     "metadata": {},
     "output_type": "execute_result"
    }
   ],
   "source": [
    "# SAMPLE_FILE = \"gs://spotify-beam-v3/v3/dif_artist/-00000-of-05106.tfrecords\" # 9410\n",
    "# SAMPLE_FILE = \"gs://spotify-beam-v3/v3/dif_artist/-00001-of-05106.tfrecords\" # 9396\n",
    "SAMPLE_FILE = \"gs://spotify-beam-v3/v3/dif_artist/-00002-of-05106.tfrecords\" # 9404\n",
    "raw_dataset = tf.data.TFRecordDataset(SAMPLE_FILE)\n",
    "\n",
    "cnt = raw_dataset.reduce(np.int64(0), lambda x, _: x + 1)\n",
    "cnt"
   ]
  },
  {
   "cell_type": "code",
   "execution_count": null,
   "id": "18d445a3-f31b-4ae3-bf79-39c20bb5cebd",
   "metadata": {},
   "outputs": [],
   "source": []
  },
  {
   "cell_type": "markdown",
   "id": "16f77a92-c705-4d3c-bfd7-6c60b2d1527a",
   "metadata": {},
   "source": [
    "## v3 - dif_artist_valid"
   ]
  },
  {
   "cell_type": "code",
   "execution_count": 23,
   "id": "20ba2cf6-9202-44b9-a4ae-32ca0a873c63",
   "metadata": {},
   "outputs": [
    {
     "data": {
      "text/plain": [
       "<tf.Tensor: shape=(), dtype=int64, numpy=9415>"
      ]
     },
     "execution_count": 23,
     "metadata": {},
     "output_type": "execute_result"
    }
   ],
   "source": [
    "# \"gs://spotify-beam-v3/v3/dif_artist_valid/-00000-of-00510.tfrecords\"\n",
    "\n",
    "# SAMPLE_FILE = \"gs://spotify-beam-v3/v3/dif_artist_valid/-00000-of-00510.tfrecords\" # 9419\n",
    "# SAMPLE_FILE = \"gs://spotify-beam-v3/v3/dif_artist_valid/-00001-of-00510.tfrecords\" # 9430\n",
    "SAMPLE_FILE = \"gs://spotify-beam-v3/v3/dif_artist_valid/-00002-of-00510.tfrecords\" # 9415\n",
    "raw_dataset = tf.data.TFRecordDataset(SAMPLE_FILE)\n",
    "\n",
    "cnt = raw_dataset.reduce(np.int64(0), lambda x, _: x + 1)\n",
    "cnt"
   ]
  },
  {
   "cell_type": "markdown",
   "id": "ed1bc546-343e-4e6b-b302-52499dd1b43f",
   "metadata": {},
   "source": [
    "# V4"
   ]
  },
  {
   "cell_type": "markdown",
   "id": "085a457c-ee0b-472a-8e34-4ee7c0dc322c",
   "metadata": {},
   "source": [
    "## v4 - dif_artist_train"
   ]
  },
  {
   "cell_type": "code",
   "execution_count": 30,
   "id": "506041b9-6e9c-4604-8e44-9a5ee0193000",
   "metadata": {},
   "outputs": [
    {
     "data": {
      "text/plain": [
       "<tf.Tensor: shape=(), dtype=int64, numpy=18807>"
      ]
     },
     "execution_count": 30,
     "metadata": {},
     "output_type": "execute_result"
    }
   ],
   "source": [
    "# 'gs://spotify-beam-v3/v4/dif_artist/-00000-of-02553.tfrecords'\n",
    "\n",
    "# SAMPLE_FILE = \"gs://spotify-beam-v3/v4/dif_artist/-00000-of-02553.tfrecords\" # 18,811\n",
    "# SAMPLE_FILE = \"gs://spotify-beam-v3/v4/dif_artist/-00001-of-02553.tfrecords\" # 18,794\n",
    "SAMPLE_FILE = \"gs://spotify-beam-v3/v4/dif_artist/-00002-of-02553.tfrecords\" # 18,807\n",
    "raw_dataset = tf.data.TFRecordDataset(SAMPLE_FILE)\n",
    "\n",
    "cnt = raw_dataset.reduce(np.int64(0), lambda x, _: x + 1)\n",
    "cnt"
   ]
  },
  {
   "cell_type": "code",
   "execution_count": null,
   "id": "50f8cf85-d50c-4d58-aa58-0cf792dde3a8",
   "metadata": {},
   "outputs": [],
   "source": []
  },
  {
   "cell_type": "markdown",
   "id": "e27048d8-f21b-465f-b590-78d69485fdc0",
   "metadata": {},
   "source": [
    "## v4 - dif_artist_valid"
   ]
  },
  {
   "cell_type": "code",
   "execution_count": 26,
   "id": "67cbc24b-9bcd-4ccf-b0c0-6f80cd404256",
   "metadata": {},
   "outputs": [
    {
     "data": {
      "text/plain": [
       "<tf.Tensor: shape=(), dtype=int64, numpy=18854>"
      ]
     },
     "execution_count": 26,
     "metadata": {},
     "output_type": "execute_result"
    }
   ],
   "source": [
    "# 'gs://spotify-beam-v3/v4/dif_artist_valid/-00000-of-00255.tfrecords'\n",
    "\n",
    "# SAMPLE_FILE = \"gs://spotify-beam-v3/v4/dif_artist_valid/-00000-of-00255.tfrecords\" # 18,844\n",
    "# SAMPLE_FILE = \"gs://spotify-beam-v3/v4/dif_artist_valid/-00001-of-00255.tfrecords\" # 18,858\n",
    "SAMPLE_FILE = \"gs://spotify-beam-v3/v4/dif_artist_valid/-00002-of-00255.tfrecords\" # 18,854\n",
    "raw_dataset = tf.data.TFRecordDataset(SAMPLE_FILE)\n",
    "\n",
    "cnt = raw_dataset.reduce(np.int64(0), lambda x, _: x + 1)\n",
    "cnt"
   ]
  },
  {
   "cell_type": "code",
   "execution_count": null,
   "id": "2d10346d-c07b-4b5d-a359-0d6f2e43d12c",
   "metadata": {},
   "outputs": [],
   "source": []
  },
  {
   "cell_type": "markdown",
   "id": "2579d84b-0a98-4d66-8642-0da02b944f4f",
   "metadata": {},
   "source": [
    "## v4 - train"
   ]
  },
  {
   "cell_type": "code",
   "execution_count": 43,
   "id": "091d8270-cbc8-4227-a696-8effb6e0b1ff",
   "metadata": {},
   "outputs": [
    {
     "data": {
      "text/plain": [
       "<tf.Tensor: shape=(), dtype=int64, numpy=16945>"
      ]
     },
     "execution_count": 43,
     "metadata": {},
     "output_type": "execute_result"
    }
   ],
   "source": [
    "# gs://spotify-beam-v3/v4/train/-00000-of-02553.tfrecords\n",
    "\n",
    "# SAMPLE_FILE = \"gs://spotify-beam-v3/v4/train/-00000-of-02553.tfrecords\" # 16859\n",
    "# SAMPLE_FILE = \"gs://spotify-beam-v3/v4/train/-00001-of-02553.tfrecords\" # 16897\n",
    "SAMPLE_FILE = \"gs://spotify-beam-v3/v4/train/-00002-of-02553.tfrecords\" # 16945\n",
    "raw_dataset = tf.data.TFRecordDataset(SAMPLE_FILE)\n",
    "\n",
    "cnt = raw_dataset.reduce(np.int64(0), lambda x, _: x + 1)\n",
    "cnt"
   ]
  },
  {
   "cell_type": "code",
   "execution_count": null,
   "id": "d1488a3e-739c-4b94-816f-56cc00629eb0",
   "metadata": {},
   "outputs": [],
   "source": []
  },
  {
   "cell_type": "markdown",
   "id": "81933e7f-d527-493d-8cdd-9dc5afc3b4ae",
   "metadata": {},
   "source": [
    "## v4 - valid"
   ]
  },
  {
   "cell_type": "code",
   "execution_count": 40,
   "id": "b54799cc-7426-4a45-8c32-377b6f4bdf35",
   "metadata": {},
   "outputs": [
    {
     "data": {
      "text/plain": [
       "<tf.Tensor: shape=(), dtype=int64, numpy=18853>"
      ]
     },
     "execution_count": 40,
     "metadata": {},
     "output_type": "execute_result"
    }
   ],
   "source": [
    "# gs://spotify-beam-v3/v4/valid/-00000-of-00255.tfrecords\n",
    "\n",
    "# SAMPLE_FILE = \"gs://spotify-beam-v3/v4/valid/-00000-of-00255.tfrecords\" # 18844\n",
    "# SAMPLE_FILE = \"gs://spotify-beam-v3/v4/valid/-00001-of-00255.tfrecords\" # 18855\n",
    "SAMPLE_FILE = \"gs://spotify-beam-v3/v4/valid/-00002-of-00255.tfrecords\" # 18853\n",
    "raw_dataset = tf.data.TFRecordDataset(SAMPLE_FILE)\n",
    "\n",
    "cnt = raw_dataset.reduce(np.int64(0), lambda x, _: x + 1)\n",
    "cnt"
   ]
  },
  {
   "cell_type": "code",
   "execution_count": null,
   "id": "aa994739-ae41-4070-b3da-798961d73294",
   "metadata": {},
   "outputs": [],
   "source": []
  },
  {
   "cell_type": "markdown",
   "id": "f6f39e33-7b8b-4627-b613-0ddf314a92ed",
   "metadata": {},
   "source": [
    "# V5"
   ]
  },
  {
   "cell_type": "markdown",
   "id": "1d614873-4448-452f-881b-bec4906d1d8d",
   "metadata": {},
   "source": [
    "## v5 - dif_artist_train"
   ]
  },
  {
   "cell_type": "code",
   "execution_count": 37,
   "id": "578114a2-e171-4684-a145-d7700730219d",
   "metadata": {},
   "outputs": [
    {
     "data": {
      "text/plain": [
       "<tf.Tensor: shape=(), dtype=int64, numpy=14115>"
      ]
     },
     "execution_count": 37,
     "metadata": {},
     "output_type": "execute_result"
    }
   ],
   "source": [
    "# gs://spotify-beam-v3/v5/dif_artist/-00000-of-03404.tfrecords\n",
    "\n",
    "# SAMPLE_FILE = \"gs://spotify-beam-v3/v5/dif_artist/-00000-of-03404.tfrecords\" # 14074\n",
    "# SAMPLE_FILE = \"gs://spotify-beam-v3/v5/dif_artist/-00001-of-03404.tfrecords\" # 14101\n",
    "SAMPLE_FILE = \"gs://spotify-beam-v3/v5/dif_artist/-00002-of-03404.tfrecords\" # 14115\n",
    "raw_dataset = tf.data.TFRecordDataset(SAMPLE_FILE)\n",
    "\n",
    "cnt = raw_dataset.reduce(np.int64(0), lambda x, _: x + 1)\n",
    "cnt"
   ]
  },
  {
   "cell_type": "code",
   "execution_count": null,
   "id": "f92aae23-171a-4e0c-a0e8-3041f82101a2",
   "metadata": {},
   "outputs": [],
   "source": []
  },
  {
   "cell_type": "markdown",
   "id": "1453885e-9757-40a6-ad41-379d829d02cc",
   "metadata": {},
   "source": [
    "## v5 - dif_artist_valid"
   ]
  },
  {
   "cell_type": "code",
   "execution_count": 34,
   "id": "59e2d781-de19-4365-9606-79f8e41e9f81",
   "metadata": {},
   "outputs": [
    {
     "data": {
      "text/plain": [
       "<tf.Tensor: shape=(), dtype=int64, numpy=14106>"
      ]
     },
     "execution_count": 34,
     "metadata": {},
     "output_type": "execute_result"
    }
   ],
   "source": [
    "# gs://spotify-beam-v3/v5/dif_artist_valid/-00000-of-00340.tfrecords\n",
    "\n",
    "# SAMPLE_FILE = \"gs://spotify-beam-v3/v5/dif_artist_valid/-00000-of-00340.tfrecords\" # 14122\n",
    "# SAMPLE_FILE = \"gs://spotify-beam-v3/v5/dif_artist_valid/-00001-of-00340.tfrecords\" # 14137\n",
    "SAMPLE_FILE = \"gs://spotify-beam-v3/v5/dif_artist_valid/-00002-of-00340.tfrecords\" # 14106\n",
    "raw_dataset = tf.data.TFRecordDataset(SAMPLE_FILE)\n",
    "\n",
    "cnt = raw_dataset.reduce(np.int64(0), lambda x, _: x + 1)\n",
    "cnt"
   ]
  },
  {
   "cell_type": "code",
   "execution_count": null,
   "id": "2a84786f-c942-4bc7-830c-74f9d6f66d43",
   "metadata": {},
   "outputs": [],
   "source": []
  },
  {
   "cell_type": "markdown",
   "id": "49a79219-8a00-4b4c-af2a-199cf2bd850c",
   "metadata": {},
   "source": [
    "## v5 - train"
   ]
  },
  {
   "cell_type": "code",
   "execution_count": 46,
   "id": "8b46b3b1-0897-4420-b19a-804257a9ad4e",
   "metadata": {},
   "outputs": [
    {
     "data": {
      "text/plain": [
       "<tf.Tensor: shape=(), dtype=int64, numpy=12662>"
      ]
     },
     "execution_count": 46,
     "metadata": {},
     "output_type": "execute_result"
    }
   ],
   "source": [
    "# gs://spotify-beam-v3/v5/train/-00000-of-03404.tfrecords\n",
    "\n",
    "# SAMPLE_FILE = \"gs://spotify-beam-v3/v5/train/-00000-of-03404.tfrecords\" # 12720\n",
    "# SAMPLE_FILE = \"gs://spotify-beam-v3/v5/train/-00001-of-03404.tfrecords\" # 12688\n",
    "SAMPLE_FILE = \"gs://spotify-beam-v3/v5/train/-00002-of-03404.tfrecords\" # 12662\n",
    "raw_dataset = tf.data.TFRecordDataset(SAMPLE_FILE)\n",
    "\n",
    "cnt = raw_dataset.reduce(np.int64(0), lambda x, _: x + 1)\n",
    "cnt"
   ]
  },
  {
   "cell_type": "code",
   "execution_count": null,
   "id": "429a235f-f4e8-488b-b9c7-282475446498",
   "metadata": {},
   "outputs": [],
   "source": []
  },
  {
   "cell_type": "markdown",
   "id": "46cc8f3c-04c5-4744-b104-11c2f1024639",
   "metadata": {},
   "source": [
    "## v5 - valid"
   ]
  },
  {
   "cell_type": "code",
   "execution_count": 49,
   "id": "1e658b79-87f7-4a33-ad7a-2d8915fcb917",
   "metadata": {},
   "outputs": [
    {
     "data": {
      "text/plain": [
       "<tf.Tensor: shape=(), dtype=int64, numpy=14152>"
      ]
     },
     "execution_count": 49,
     "metadata": {},
     "output_type": "execute_result"
    }
   ],
   "source": [
    "# gs://spotify-beam-v3/v5/valid/-00000-of-00340.tfrecords\n",
    "\n",
    "# SAMPLE_FILE = \"gs://spotify-beam-v3/v5/valid/-00000-of-00340.tfrecords\" # 14142\n",
    "# SAMPLE_FILE = \"gs://spotify-beam-v3/v5/valid/-00001-of-00340.tfrecords\" # 14126\n",
    "SAMPLE_FILE = \"gs://spotify-beam-v3/v5/valid/-00002-of-00340.tfrecords\" # 14152\n",
    "raw_dataset = tf.data.TFRecordDataset(SAMPLE_FILE)\n",
    "\n",
    "cnt = raw_dataset.reduce(np.int64(0), lambda x, _: x + 1)\n",
    "cnt"
   ]
  },
  {
   "cell_type": "code",
   "execution_count": null,
   "id": "404f7dad-b19b-4cbb-8f1d-2a8927cb2ac5",
   "metadata": {},
   "outputs": [],
   "source": []
  },
  {
   "cell_type": "markdown",
   "id": "1908b636-1785-46ac-93da-0ba0921bfe6b",
   "metadata": {},
   "source": [
    "# v6"
   ]
  },
  {
   "cell_type": "markdown",
   "id": "abca2b61-b770-48a3-b95f-da838e128af9",
   "metadata": {},
   "source": [
    "## v6 - dif_artist_train"
   ]
  },
  {
   "cell_type": "code",
   "execution_count": 77,
   "id": "908c8050-3797-4a23-a366-6030d814cb05",
   "metadata": {
    "tags": []
   },
   "outputs": [
    {
     "data": {
      "text/plain": [
       "<tf.Tensor: shape=(), dtype=int64, numpy=78756>"
      ]
     },
     "execution_count": 77,
     "metadata": {},
     "output_type": "execute_result"
    }
   ],
   "source": [
    "# SAMPLE_FILE = \"gs://spotify-beam-v3/v6/dif_artist/-00000-of-00610.tfrecords\" # 78758\n",
    "# SAMPLE_FILE = \"gs://spotify-beam-v3/v6/dif_artist/-00001-of-00610.tfrecords\" # 78767\n",
    "SAMPLE_FILE = \"gs://spotify-beam-v3/v6/dif_artist/-00002-of-00610.tfrecords\" # 78756\n",
    "raw_dataset = tf.data.TFRecordDataset(SAMPLE_FILE)\n",
    "\n",
    "# for raw_record in raw_dataset.take(1):\n",
    "#     example = tf.train.Example()\n",
    "#     example.ParseFromString(raw_record.numpy())\n",
    "#     print(example)\n",
    "\n",
    "# for x in train_dataset.take(1):\n",
    "#     print(x)\n",
    "    \n",
    "cnt = raw_dataset.reduce(np.int64(0), lambda x, _: x + 1)\n",
    "cnt"
   ]
  },
  {
   "cell_type": "markdown",
   "id": "8ee26798-e986-488b-9a86-b3a7b7f7d3ed",
   "metadata": {},
   "source": [
    "## v6 - dif_artist_valid"
   ]
  },
  {
   "cell_type": "code",
   "execution_count": 80,
   "id": "8cedebb3-af91-48aa-b9de-c6e1359ffcf4",
   "metadata": {},
   "outputs": [
    {
     "data": {
      "text/plain": [
       "<tf.Tensor: shape=(), dtype=int64, numpy=80248>"
      ]
     },
     "execution_count": 80,
     "metadata": {},
     "output_type": "execute_result"
    }
   ],
   "source": [
    "# gs://spotify-beam-v3/v6/dif_artist_valid/-00000-of-00006.tfrecords\n",
    "\n",
    "# SAMPLE_FILE = \"gs://spotify-beam-v3/v6/dif_artist_valid/-00000-of-00006.tfrecords\" # 80243\n",
    "# SAMPLE_FILE = \"gs://spotify-beam-v3/v6/dif_artist_valid/-00001-of-00006.tfrecords\" # 80246\n",
    "SAMPLE_FILE = \"gs://spotify-beam-v3/v6/dif_artist_valid/-00002-of-00006.tfrecords\" # 80248\n",
    "raw_dataset = tf.data.TFRecordDataset(SAMPLE_FILE)\n",
    "\n",
    "cnt = raw_dataset.reduce(np.int64(0), lambda x, _: x + 1)\n",
    "cnt"
   ]
  },
  {
   "cell_type": "code",
   "execution_count": null,
   "id": "fcafeef8-a4d9-498c-ad84-a5abd995e081",
   "metadata": {},
   "outputs": [],
   "source": []
  },
  {
   "cell_type": "markdown",
   "id": "86dec9e0-683e-495c-a349-4ae4f0ccde60",
   "metadata": {},
   "source": [
    "## v6 - train"
   ]
  },
  {
   "cell_type": "code",
   "execution_count": 83,
   "id": "c6ecb073-2219-43c1-9e01-72b280087a68",
   "metadata": {},
   "outputs": [
    {
     "data": {
      "text/plain": [
       "<tf.Tensor: shape=(), dtype=int64, numpy=76642>"
      ]
     },
     "execution_count": 83,
     "metadata": {},
     "output_type": "execute_result"
    }
   ],
   "source": [
    "# gs://spotify-beam-v3/v6/train/-00000-of-00844.tfrecords\n",
    "\n",
    "# SAMPLE_FILE = \"gs://spotify-beam-v3/v6/train/-00000-of-00844.tfrecords\" # 76672\n",
    "# SAMPLE_FILE = \"gs://spotify-beam-v3/v6/train/-00001-of-00844.tfrecords\" # 76630\n",
    "SAMPLE_FILE = \"gs://spotify-beam-v3/v6/train/-00002-of-00844.tfrecords\" # 76642\n",
    "raw_dataset = tf.data.TFRecordDataset(SAMPLE_FILE)\n",
    "\n",
    "\n",
    "cnt = raw_dataset.reduce(np.int64(0), lambda x, _: x + 1)\n",
    "cnt"
   ]
  },
  {
   "cell_type": "code",
   "execution_count": null,
   "id": "37302a69-6885-4e84-83ad-c8cda26e41d2",
   "metadata": {},
   "outputs": [],
   "source": []
  },
  {
   "cell_type": "markdown",
   "id": "5c8ce967-b475-4a11-a476-a2650a0f2f34",
   "metadata": {},
   "source": [
    "## v6 - valid"
   ]
  },
  {
   "cell_type": "code",
   "execution_count": 86,
   "id": "6fc8a549-69d5-4ed8-b60d-b54343869d7e",
   "metadata": {},
   "outputs": [
    {
     "data": {
      "text/plain": [
       "<tf.Tensor: shape=(), dtype=int64, numpy=81627>"
      ]
     },
     "execution_count": 86,
     "metadata": {},
     "output_type": "execute_result"
    }
   ],
   "source": [
    "# gs://spotify-beam-v3/v6/valid/-00000-of-00008.tfrecords\n",
    "\n",
    "# SAMPLE_FILE = \"gs://spotify-beam-v3/v6/valid/-00000-of-00008.tfrecords\" # 81_625\n",
    "# SAMPLE_FILE = \"gs://spotify-beam-v3/v6/valid/-00001-of-00008.tfrecords\" # 81_625\n",
    "SAMPLE_FILE = \"gs://spotify-beam-v3/v6/valid/-00002-of-00008.tfrecords\" # 81_627\n",
    "raw_dataset = tf.data.TFRecordDataset(SAMPLE_FILE)\n",
    "\n",
    "\n",
    "cnt = raw_dataset.reduce(np.int64(0), lambda x, _: x + 1)\n",
    "cnt"
   ]
  },
  {
   "cell_type": "markdown",
   "id": "cb88400a-6a50-44f4-ad56-3d5e2fb8fc3f",
   "metadata": {},
   "source": [
    "## v6 - train_last_5"
   ]
  },
  {
   "cell_type": "code",
   "execution_count": 92,
   "id": "9e682857-ee7d-46cb-a1ac-2e8e57ba3800",
   "metadata": {},
   "outputs": [
    {
     "data": {
      "text/plain": [
       "<tf.Tensor: shape=(), dtype=int64, numpy=76655>"
      ]
     },
     "execution_count": 92,
     "metadata": {},
     "output_type": "execute_result"
    }
   ],
   "source": [
    "# gs://spotify-beam-v3/v6/train_last_5/-00000-of-00111.tfrecords\n",
    "\n",
    "# SAMPLE_FILE = \"gs://spotify-beam-v3/v6/train_last_5/-00000-of-00111.tfrecords\" # 547_149\n",
    "# SAMPLE_FILE = \"gs://spotify-beam-v3/v6/train_last_5/-00001-of-00111.tfrecords\" # 547_140\n",
    "# SAMPLE_FILE = \"gs://spotify-beam-v3/v6/train_last_5/-00002-of-00111.tfrecords\" # 547_137\n",
    "\n",
    "# SAMPLE_FILE = \"gs://spotify-beam-v3/v6/train_last_5/-00000-of-00844.tfrecords\" #  76645\n",
    "# SAMPLE_FILE = \"gs://spotify-beam-v3/v6/train_last_5/-00001-of-00844.tfrecords\" #  76636\n",
    "SAMPLE_FILE = \"gs://spotify-beam-v3/v6/train_last_5/-00002-of-00844.tfrecords\" #  76655\n",
    "\n",
    "raw_dataset = tf.data.TFRecordDataset(SAMPLE_FILE)\n",
    "\n",
    "\n",
    "cnt = raw_dataset.reduce(np.int64(0), lambda x, _: x + 1)\n",
    "cnt"
   ]
  },
  {
   "cell_type": "markdown",
   "id": "da4bce7b-600a-45b3-87fe-0abe3b7bb79a",
   "metadata": {},
   "source": [
    "## v6 - valid_last_5"
   ]
  },
  {
   "cell_type": "code",
   "execution_count": 97,
   "id": "70ba9b5f-0185-46c4-a13c-91679ff58765",
   "metadata": {},
   "outputs": [
    {
     "data": {
      "text/plain": [
       "<tf.Tensor: shape=(), dtype=int64, numpy=613001>"
      ]
     },
     "execution_count": 97,
     "metadata": {},
     "output_type": "execute_result"
    }
   ],
   "source": [
    "# gs://spotify-beam-v3/v6/valid_last_5/-00000-of-00001.tfrecords\n",
    "\n",
    "# SAMPLE_FILE = \"gs://spotify-beam-v3/v6/valid_last_5/-00000-of-00008.tfrecords\" # 81_625\n",
    "# SAMPLE_FILE = \"gs://spotify-beam-v3/v6/valid_last_5/-00001-of-00008.tfrecords\" # 81_627\n",
    "# SAMPLE_FILE = \"gs://spotify-beam-v3/v6/valid_last_5/-00002-of-00008.tfrecords\" # 81_623\n",
    "\n",
    "SAMPLE_FILE = \"gs://spotify-beam-v3/v6/valid_last_5/-00000-of-00001.tfrecords\" # 613001\n",
    "\n",
    "raw_dataset = tf.data.TFRecordDataset(SAMPLE_FILE)\n",
    "\n",
    "\n",
    "cnt = raw_dataset.reduce(np.int64(0), lambda x, _: x + 1)\n",
    "cnt"
   ]
  },
  {
   "cell_type": "code",
   "execution_count": null,
   "id": "ca60209f-52a2-4aa2-a630-e92f4dac139a",
   "metadata": {},
   "outputs": [],
   "source": []
  }
 ],
 "metadata": {
  "environment": {
   "kernel": "python3",
   "name": "tf2-gpu.2-9.m96",
   "type": "gcloud",
   "uri": "gcr.io/deeplearning-platform-release/tf2-gpu.2-9:m96"
  },
  "kernelspec": {
   "display_name": "Python 3",
   "language": "python",
   "name": "python3"
  },
  "language_info": {
   "codemirror_mode": {
    "name": "ipython",
    "version": 3
   },
   "file_extension": ".py",
   "mimetype": "text/x-python",
   "name": "python",
   "nbconvert_exporter": "python",
   "pygments_lexer": "ipython3",
   "version": "3.7.12"
  }
 },
 "nbformat": 4,
 "nbformat_minor": 5
}

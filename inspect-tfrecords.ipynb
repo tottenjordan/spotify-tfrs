{
 "cells": [
  {
   "cell_type": "code",
   "execution_count": 31,
   "id": "593249d2-e6a1-4088-87b1-35cdea80e89f",
   "metadata": {},
   "outputs": [],
   "source": [
    "PROJECT_ID = 'hybrid-vertex'  # <--- TODO: CHANGE THIS\n",
    "LOCATION = 'us-central1' \n",
    "\n",
    "import json\n",
    "import tensorflow as tf\n",
    "import tensorflow_recommenders as tfrs\n",
    "\n",
    "from google.cloud import storage\n",
    "\n",
    "import numpy as np\n",
    "import pickle as pkl\n",
    "from pprint import pprint"
   ]
  },
  {
   "cell_type": "code",
   "execution_count": 70,
   "id": "8b0625ea-2e60-4608-aad9-4a718e3c472e",
   "metadata": {},
   "outputs": [
    {
     "name": "stdout",
     "output_type": "stream",
     "text": [
      "task_type: worker\n",
      "task_id_: 1\n"
     ]
    }
   ],
   "source": [
    "def _is_chief(task_type, task_id): \n",
    "    ''' Check for primary if multiworker training\n",
    "    '''\n",
    "    return (task_type == 'chief') or (task_type == 'worker' and task_id == 0) or task_type is None\n",
    "\n",
    "# task_type_ = 'chief'\n",
    "task_type_ = 'worker'\n",
    "task_id_ = 1\n",
    "# task_id_ = 0\n",
    "\n",
    "print(f'task_type: {task_type_}')\n",
    "print(f'task_id_: {task_id_}')"
   ]
  },
  {
   "cell_type": "code",
   "execution_count": 71,
   "id": "c03bea81-1f64-4334-8be5-8bf75e08288e",
   "metadata": {},
   "outputs": [
    {
     "name": "stdout",
     "output_type": "stream",
     "text": [
      "else: not chief\n",
      "task_type: worker\n",
      "task_id_: 1\n"
     ]
    }
   ],
   "source": [
    "if _is_chief(task_type_, task_id_):\n",
    "    print('if _is_chief')\n",
    "    print(f'task_type: {task_type_}')\n",
    "    print(f'task_id_: {task_id_}')\n",
    "else:\n",
    "    print('else: not chief')\n",
    "    print(f'task_type: {task_type_}')\n",
    "    print(f'task_id_: {task_id_}')\n",
    "\n",
    "# if _is_chief(task_type, task_id):\n",
    "#     logging.info(f\"_is_chief task_type:{task_type}\")\n",
    "#     logging.info(f\"_is_chief task_id:{task_id}\")\n",
    "#     with vertex_ai.start_run(RUN_NAME) as my_run:\n",
    "#         logging.info(f\"logging metaparams\")\n",
    "#         my_run.log_params(metaparams)\n",
    "\n",
    "#         logging.info(f\"logging hyperparams\")\n",
    "#         my_run.log_params(hyperparams)"
   ]
  },
  {
   "cell_type": "code",
   "execution_count": 11,
   "id": "82a3c8ec-3044-4dfe-bd86-05498817a2be",
   "metadata": {},
   "outputs": [],
   "source": [
    "# i = 0\n",
    "# for elem in raw_dataset: \n",
    "#     i = i + 1\n",
    "    \n",
    "# i"
   ]
  },
  {
   "cell_type": "markdown",
   "id": "20264ffb-88f2-4fb5-a3ad-3713729ece35",
   "metadata": {},
   "source": [
    "# V3"
   ]
  },
  {
   "cell_type": "markdown",
   "id": "381064f3-f4ad-46aa-8aaa-340ad4610f2c",
   "metadata": {},
   "source": [
    "## v3 - train"
   ]
  },
  {
   "cell_type": "code",
   "execution_count": 9,
   "id": "11d43a30-fd24-43d6-8cb0-a5ae158bb169",
   "metadata": {
    "collapsed": true,
    "jupyter": {
     "outputs_hidden": true
    },
    "tags": []
   },
   "outputs": [
    {
     "name": "stdout",
     "output_type": "stream",
     "text": [
      "features {\n",
      "  feature {\n",
      "    key: \"album_name_can\"\n",
      "    value {\n",
      "      bytes_list {\n",
      "        value: \"I Love You.\"\n",
      "      }\n",
      "    }\n",
      "  }\n",
      "  feature {\n",
      "    key: \"album_name_seed_track\"\n",
      "    value {\n",
      "      bytes_list {\n",
      "        value: \"LOVETAP!\"\n",
      "      }\n",
      "    }\n",
      "  }\n",
      "  feature {\n",
      "    key: \"album_uri_can\"\n",
      "    value {\n",
      "      bytes_list {\n",
      "        value: \"spotify:album:4xkM0BwLM9H2IUcbYzpcBI\"\n",
      "      }\n",
      "    }\n",
      "  }\n",
      "  feature {\n",
      "    key: \"album_uri_seed_track\"\n",
      "    value {\n",
      "      bytes_list {\n",
      "        value: \"spotify:album:59xqFRG2IgFTsZtQ73yIp6\"\n",
      "      }\n",
      "    }\n",
      "  }\n",
      "  feature {\n",
      "    key: \"artist_followers_can\"\n",
      "    value {\n",
      "      float_list {\n",
      "        value: 8447277.0\n",
      "      }\n",
      "    }\n",
      "  }\n",
      "  feature {\n",
      "    key: \"artist_followers_seed_track\"\n",
      "    value {\n",
      "      float_list {\n",
      "        value: 224020.0\n",
      "      }\n",
      "    }\n",
      "  }\n",
      "  feature {\n",
      "    key: \"artist_genres_can\"\n",
      "    value {\n",
      "      bytes_list {\n",
      "        value: \"\\'modern alternative rock\\', \\'modern rock\\', \\'pop\\'\"\n",
      "      }\n",
      "    }\n",
      "  }\n",
      "  feature {\n",
      "    key: \"artist_genres_seed_track\"\n",
      "    value {\n",
      "      bytes_list {\n",
      "        value: \"\\'electropop\\', \\'hopebeat\\', \\'indie poptimism\\', \\'la indie\\', \\'la pop\\', \\'metropopolis\\', \\'modern alternative rock\\', \\'modern rock\\', \\'pop rock\\'\"\n",
      "      }\n",
      "    }\n",
      "  }\n",
      "  feature {\n",
      "    key: \"artist_name_can\"\n",
      "    value {\n",
      "      bytes_list {\n",
      "        value: \"The Neighbourhood\"\n",
      "      }\n",
      "    }\n",
      "  }\n",
      "  feature {\n",
      "    key: \"artist_name_seed_track\"\n",
      "    value {\n",
      "      bytes_list {\n",
      "        value: \"Smallpools\"\n",
      "      }\n",
      "    }\n",
      "  }\n",
      "  feature {\n",
      "    key: \"artist_pop_can\"\n",
      "    value {\n",
      "      float_list {\n",
      "        value: 89.0\n",
      "      }\n",
      "    }\n",
      "  }\n",
      "  feature {\n",
      "    key: \"artist_pop_seed_track\"\n",
      "    value {\n",
      "      float_list {\n",
      "        value: 59.0\n",
      "      }\n",
      "    }\n",
      "  }\n",
      "  feature {\n",
      "    key: \"artist_uri_can\"\n",
      "    value {\n",
      "      bytes_list {\n",
      "        value: \"spotify:artist:77SW9BnxLY8rJ0RciFqkHh\"\n",
      "      }\n",
      "    }\n",
      "  }\n",
      "  feature {\n",
      "    key: \"artist_uri_seed_track\"\n",
      "    value {\n",
      "      bytes_list {\n",
      "        value: \"spotify:artist:4iiQabGKtS2RtTKpVkrVTw\"\n",
      "      }\n",
      "    }\n",
      "  }\n",
      "  feature {\n",
      "    key: \"collaborative\"\n",
      "    value {\n",
      "      bytes_list {\n",
      "        value: \"false\"\n",
      "      }\n",
      "    }\n",
      "  }\n",
      "  feature {\n",
      "    key: \"description_pl\"\n",
      "    value {\n",
      "      bytes_list {\n",
      "        value: \"\"\n",
      "      }\n",
      "    }\n",
      "  }\n",
      "  feature {\n",
      "    key: \"duration_ms_can\"\n",
      "    value {\n",
      "      float_list {\n",
      "        value: 240400.0\n",
      "      }\n",
      "    }\n",
      "  }\n",
      "  feature {\n",
      "    key: \"duration_seed_track\"\n",
      "    value {\n",
      "      float_list {\n",
      "        value: 216253.0\n",
      "      }\n",
      "    }\n",
      "  }\n",
      "  feature {\n",
      "    key: \"n_songs_pl\"\n",
      "    value {\n",
      "      float_list {\n",
      "        value: 12.0\n",
      "      }\n",
      "    }\n",
      "  }\n",
      "  feature {\n",
      "    key: \"name\"\n",
      "    value {\n",
      "      bytes_list {\n",
      "        value: \"indie\"\n",
      "      }\n",
      "    }\n",
      "  }\n",
      "  feature {\n",
      "    key: \"num_albums_pl\"\n",
      "    value {\n",
      "      float_list {\n",
      "        value: 10.0\n",
      "      }\n",
      "    }\n",
      "  }\n",
      "  feature {\n",
      "    key: \"num_artists_pl\"\n",
      "    value {\n",
      "      float_list {\n",
      "        value: 7.0\n",
      "      }\n",
      "    }\n",
      "  }\n",
      "  feature {\n",
      "    key: \"track_name_can\"\n",
      "    value {\n",
      "      bytes_list {\n",
      "        value: \"Sweater Weather\"\n",
      "      }\n",
      "    }\n",
      "  }\n",
      "  feature {\n",
      "    key: \"track_name_seed_track\"\n",
      "    value {\n",
      "      bytes_list {\n",
      "        value: \"Dreaming\"\n",
      "      }\n",
      "    }\n",
      "  }\n",
      "  feature {\n",
      "    key: \"track_pop_can\"\n",
      "    value {\n",
      "      float_list {\n",
      "        value: 94.0\n",
      "      }\n",
      "    }\n",
      "  }\n",
      "  feature {\n",
      "    key: \"track_pop_seed_track\"\n",
      "    value {\n",
      "      float_list {\n",
      "        value: 64.0\n",
      "      }\n",
      "    }\n",
      "  }\n",
      "  feature {\n",
      "    key: \"track_uri_can\"\n",
      "    value {\n",
      "      bytes_list {\n",
      "        value: \"spotify:track:2QjOHCTQ1Jl3zawyYOpxh6\"\n",
      "      }\n",
      "    }\n",
      "  }\n",
      "  feature {\n",
      "    key: \"track_uri_seed_track\"\n",
      "    value {\n",
      "      bytes_list {\n",
      "        value: \"spotify:track:6cMswWRv4lAU3mh5lclgCc\"\n",
      "      }\n",
      "    }\n",
      "  }\n",
      "}\n",
      "\n"
     ]
    }
   ],
   "source": [
    "# SAMPLE_FILE = \"gs://spotify-beam-v3/v3/train/-00000-of-05106.tfrecords\" # 8474\n",
    "# SAMPLE_FILE = \"gs://spotify-beam-v3/v3/train/-00001-of-05106.tfrecords\" # 8461\n",
    "SAMPLE_FILE = \"gs://spotify-beam-v3/v3/train/-00002-of-05106.tfrecords\" # 8461\n",
    "raw_dataset = tf.data.TFRecordDataset(SAMPLE_FILE)\n",
    "\n",
    "for raw_record in raw_dataset.take(1):\n",
    "    example = tf.train.Example()\n",
    "    example.ParseFromString(raw_record.numpy())\n",
    "    print(example)"
   ]
  },
  {
   "cell_type": "code",
   "execution_count": 10,
   "id": "5cd36d6c-ab71-42dd-a4da-4c108f54bb7d",
   "metadata": {},
   "outputs": [
    {
     "data": {
      "text/plain": [
       "<tf.Tensor: shape=(), dtype=int64, numpy=8461>"
      ]
     },
     "execution_count": 10,
     "metadata": {},
     "output_type": "execute_result"
    }
   ],
   "source": [
    "cnt = raw_dataset.reduce(np.int64(0), lambda x, _: x + 1)\n",
    "cnt"
   ]
  },
  {
   "cell_type": "markdown",
   "id": "1298b1ef-f732-4c86-998c-4d278cd010b6",
   "metadata": {},
   "source": [
    "## v3 - valid"
   ]
  },
  {
   "cell_type": "code",
   "execution_count": 18,
   "id": "3f07f4d0-8442-4e3e-9044-75afe80268d0",
   "metadata": {},
   "outputs": [
    {
     "data": {
      "text/plain": [
       "<tf.Tensor: shape=(), dtype=int64, numpy=9421>"
      ]
     },
     "execution_count": 18,
     "metadata": {},
     "output_type": "execute_result"
    }
   ],
   "source": [
    "# SAMPLE_FILE = \"gs://spotify-beam-v3/v3/valid/-00000-of-00510.tfrecords\" # 9420\n",
    "# SAMPLE_FILE = \"gs://spotify-beam-v3/v3/valid/-00001-of-00510.tfrecords\" # 9420\n",
    "SAMPLE_FILE = \"gs://spotify-beam-v3/v3/valid/-00002-of-00510.tfrecords\" # 9421\n",
    "raw_dataset = tf.data.TFRecordDataset(SAMPLE_FILE)\n",
    "\n",
    "cnt = raw_dataset.reduce(np.int64(0), lambda x, _: x + 1)\n",
    "cnt"
   ]
  },
  {
   "cell_type": "code",
   "execution_count": 20,
   "id": "ce8e56ce-2095-4211-8c16-072e04b26b81",
   "metadata": {},
   "outputs": [],
   "source": [
    "# i = 0\n",
    "# for elem in raw_dataset: \n",
    "#     i = i + 1\n",
    "    \n",
    "# i"
   ]
  },
  {
   "cell_type": "markdown",
   "id": "ac76e4a8-15aa-4541-9c19-94463efd63a4",
   "metadata": {},
   "source": [
    "## v3 - dif_artist_train"
   ]
  },
  {
   "cell_type": "code",
   "execution_count": 17,
   "id": "9f2b5249-0046-4139-b720-c2250b6b0778",
   "metadata": {},
   "outputs": [
    {
     "data": {
      "text/plain": [
       "<tf.Tensor: shape=(), dtype=int64, numpy=9404>"
      ]
     },
     "execution_count": 17,
     "metadata": {},
     "output_type": "execute_result"
    }
   ],
   "source": [
    "# SAMPLE_FILE = \"gs://spotify-beam-v3/v3/dif_artist/-00000-of-05106.tfrecords\" # 9410\n",
    "# SAMPLE_FILE = \"gs://spotify-beam-v3/v3/dif_artist/-00001-of-05106.tfrecords\" # 9396\n",
    "SAMPLE_FILE = \"gs://spotify-beam-v3/v3/dif_artist/-00002-of-05106.tfrecords\" # 9404\n",
    "raw_dataset = tf.data.TFRecordDataset(SAMPLE_FILE)\n",
    "\n",
    "cnt = raw_dataset.reduce(np.int64(0), lambda x, _: x + 1)\n",
    "cnt"
   ]
  },
  {
   "cell_type": "code",
   "execution_count": null,
   "id": "18d445a3-f31b-4ae3-bf79-39c20bb5cebd",
   "metadata": {},
   "outputs": [],
   "source": []
  },
  {
   "cell_type": "markdown",
   "id": "16f77a92-c705-4d3c-bfd7-6c60b2d1527a",
   "metadata": {},
   "source": [
    "## v3 - dif_artist_valid"
   ]
  },
  {
   "cell_type": "code",
   "execution_count": 23,
   "id": "20ba2cf6-9202-44b9-a4ae-32ca0a873c63",
   "metadata": {},
   "outputs": [
    {
     "data": {
      "text/plain": [
       "<tf.Tensor: shape=(), dtype=int64, numpy=9415>"
      ]
     },
     "execution_count": 23,
     "metadata": {},
     "output_type": "execute_result"
    }
   ],
   "source": [
    "# \"gs://spotify-beam-v3/v3/dif_artist_valid/-00000-of-00510.tfrecords\"\n",
    "\n",
    "# SAMPLE_FILE = \"gs://spotify-beam-v3/v3/dif_artist_valid/-00000-of-00510.tfrecords\" # 9419\n",
    "# SAMPLE_FILE = \"gs://spotify-beam-v3/v3/dif_artist_valid/-00001-of-00510.tfrecords\" # 9430\n",
    "SAMPLE_FILE = \"gs://spotify-beam-v3/v3/dif_artist_valid/-00002-of-00510.tfrecords\" # 9415\n",
    "raw_dataset = tf.data.TFRecordDataset(SAMPLE_FILE)\n",
    "\n",
    "cnt = raw_dataset.reduce(np.int64(0), lambda x, _: x + 1)\n",
    "cnt"
   ]
  },
  {
   "cell_type": "markdown",
   "id": "ed1bc546-343e-4e6b-b302-52499dd1b43f",
   "metadata": {},
   "source": [
    "# V4"
   ]
  },
  {
   "cell_type": "markdown",
   "id": "085a457c-ee0b-472a-8e34-4ee7c0dc322c",
   "metadata": {},
   "source": [
    "## v4 - dif_artist_train"
   ]
  },
  {
   "cell_type": "code",
   "execution_count": 30,
   "id": "506041b9-6e9c-4604-8e44-9a5ee0193000",
   "metadata": {},
   "outputs": [
    {
     "data": {
      "text/plain": [
       "<tf.Tensor: shape=(), dtype=int64, numpy=18807>"
      ]
     },
     "execution_count": 30,
     "metadata": {},
     "output_type": "execute_result"
    }
   ],
   "source": [
    "# 'gs://spotify-beam-v3/v4/dif_artist/-00000-of-02553.tfrecords'\n",
    "\n",
    "# SAMPLE_FILE = \"gs://spotify-beam-v3/v4/dif_artist/-00000-of-02553.tfrecords\" # 18,811\n",
    "# SAMPLE_FILE = \"gs://spotify-beam-v3/v4/dif_artist/-00001-of-02553.tfrecords\" # 18,794\n",
    "SAMPLE_FILE = \"gs://spotify-beam-v3/v4/dif_artist/-00002-of-02553.tfrecords\" # 18,807\n",
    "raw_dataset = tf.data.TFRecordDataset(SAMPLE_FILE)\n",
    "\n",
    "cnt = raw_dataset.reduce(np.int64(0), lambda x, _: x + 1)\n",
    "cnt"
   ]
  },
  {
   "cell_type": "code",
   "execution_count": null,
   "id": "50f8cf85-d50c-4d58-aa58-0cf792dde3a8",
   "metadata": {},
   "outputs": [],
   "source": []
  },
  {
   "cell_type": "markdown",
   "id": "e27048d8-f21b-465f-b590-78d69485fdc0",
   "metadata": {},
   "source": [
    "## v4 - dif_artist_valid"
   ]
  },
  {
   "cell_type": "code",
   "execution_count": 26,
   "id": "67cbc24b-9bcd-4ccf-b0c0-6f80cd404256",
   "metadata": {},
   "outputs": [
    {
     "data": {
      "text/plain": [
       "<tf.Tensor: shape=(), dtype=int64, numpy=18854>"
      ]
     },
     "execution_count": 26,
     "metadata": {},
     "output_type": "execute_result"
    }
   ],
   "source": [
    "# 'gs://spotify-beam-v3/v4/dif_artist_valid/-00000-of-00255.tfrecords'\n",
    "\n",
    "# SAMPLE_FILE = \"gs://spotify-beam-v3/v4/dif_artist_valid/-00000-of-00255.tfrecords\" # 18,844\n",
    "# SAMPLE_FILE = \"gs://spotify-beam-v3/v4/dif_artist_valid/-00001-of-00255.tfrecords\" # 18,858\n",
    "SAMPLE_FILE = \"gs://spotify-beam-v3/v4/dif_artist_valid/-00002-of-00255.tfrecords\" # 18,854\n",
    "raw_dataset = tf.data.TFRecordDataset(SAMPLE_FILE)\n",
    "\n",
    "cnt = raw_dataset.reduce(np.int64(0), lambda x, _: x + 1)\n",
    "cnt"
   ]
  },
  {
   "cell_type": "code",
   "execution_count": null,
   "id": "2d10346d-c07b-4b5d-a359-0d6f2e43d12c",
   "metadata": {},
   "outputs": [],
   "source": []
  },
  {
   "cell_type": "markdown",
   "id": "2579d84b-0a98-4d66-8642-0da02b944f4f",
   "metadata": {},
   "source": [
    "## v4 - train"
   ]
  },
  {
   "cell_type": "code",
   "execution_count": 43,
   "id": "091d8270-cbc8-4227-a696-8effb6e0b1ff",
   "metadata": {},
   "outputs": [
    {
     "data": {
      "text/plain": [
       "<tf.Tensor: shape=(), dtype=int64, numpy=16945>"
      ]
     },
     "execution_count": 43,
     "metadata": {},
     "output_type": "execute_result"
    }
   ],
   "source": [
    "# gs://spotify-beam-v3/v4/train/-00000-of-02553.tfrecords\n",
    "\n",
    "# SAMPLE_FILE = \"gs://spotify-beam-v3/v4/train/-00000-of-02553.tfrecords\" # 16859\n",
    "# SAMPLE_FILE = \"gs://spotify-beam-v3/v4/train/-00001-of-02553.tfrecords\" # 16897\n",
    "SAMPLE_FILE = \"gs://spotify-beam-v3/v4/train/-00002-of-02553.tfrecords\" # 16945\n",
    "raw_dataset = tf.data.TFRecordDataset(SAMPLE_FILE)\n",
    "\n",
    "cnt = raw_dataset.reduce(np.int64(0), lambda x, _: x + 1)\n",
    "cnt"
   ]
  },
  {
   "cell_type": "code",
   "execution_count": null,
   "id": "d1488a3e-739c-4b94-816f-56cc00629eb0",
   "metadata": {},
   "outputs": [],
   "source": []
  },
  {
   "cell_type": "markdown",
   "id": "81933e7f-d527-493d-8cdd-9dc5afc3b4ae",
   "metadata": {},
   "source": [
    "## v4 - valid"
   ]
  },
  {
   "cell_type": "code",
   "execution_count": 40,
   "id": "b54799cc-7426-4a45-8c32-377b6f4bdf35",
   "metadata": {},
   "outputs": [
    {
     "data": {
      "text/plain": [
       "<tf.Tensor: shape=(), dtype=int64, numpy=18853>"
      ]
     },
     "execution_count": 40,
     "metadata": {},
     "output_type": "execute_result"
    }
   ],
   "source": [
    "# gs://spotify-beam-v3/v4/valid/-00000-of-00255.tfrecords\n",
    "\n",
    "# SAMPLE_FILE = \"gs://spotify-beam-v3/v4/valid/-00000-of-00255.tfrecords\" # 18844\n",
    "# SAMPLE_FILE = \"gs://spotify-beam-v3/v4/valid/-00001-of-00255.tfrecords\" # 18855\n",
    "SAMPLE_FILE = \"gs://spotify-beam-v3/v4/valid/-00002-of-00255.tfrecords\" # 18853\n",
    "raw_dataset = tf.data.TFRecordDataset(SAMPLE_FILE)\n",
    "\n",
    "cnt = raw_dataset.reduce(np.int64(0), lambda x, _: x + 1)\n",
    "cnt"
   ]
  },
  {
   "cell_type": "code",
   "execution_count": null,
   "id": "aa994739-ae41-4070-b3da-798961d73294",
   "metadata": {},
   "outputs": [],
   "source": []
  },
  {
   "cell_type": "markdown",
   "id": "f6f39e33-7b8b-4627-b613-0ddf314a92ed",
   "metadata": {},
   "source": [
    "# V5"
   ]
  },
  {
   "cell_type": "markdown",
   "id": "1d614873-4448-452f-881b-bec4906d1d8d",
   "metadata": {},
   "source": [
    "## v5 - dif_artist_train"
   ]
  },
  {
   "cell_type": "code",
   "execution_count": 37,
   "id": "578114a2-e171-4684-a145-d7700730219d",
   "metadata": {},
   "outputs": [
    {
     "data": {
      "text/plain": [
       "<tf.Tensor: shape=(), dtype=int64, numpy=14115>"
      ]
     },
     "execution_count": 37,
     "metadata": {},
     "output_type": "execute_result"
    }
   ],
   "source": [
    "# gs://spotify-beam-v3/v5/dif_artist/-00000-of-03404.tfrecords\n",
    "\n",
    "# SAMPLE_FILE = \"gs://spotify-beam-v3/v5/dif_artist/-00000-of-03404.tfrecords\" # 14074\n",
    "# SAMPLE_FILE = \"gs://spotify-beam-v3/v5/dif_artist/-00001-of-03404.tfrecords\" # 14101\n",
    "SAMPLE_FILE = \"gs://spotify-beam-v3/v5/dif_artist/-00002-of-03404.tfrecords\" # 14115\n",
    "raw_dataset = tf.data.TFRecordDataset(SAMPLE_FILE)\n",
    "\n",
    "cnt = raw_dataset.reduce(np.int64(0), lambda x, _: x + 1)\n",
    "cnt"
   ]
  },
  {
   "cell_type": "code",
   "execution_count": null,
   "id": "f92aae23-171a-4e0c-a0e8-3041f82101a2",
   "metadata": {},
   "outputs": [],
   "source": []
  },
  {
   "cell_type": "markdown",
   "id": "1453885e-9757-40a6-ad41-379d829d02cc",
   "metadata": {},
   "source": [
    "## v5 - dif_artist_valid"
   ]
  },
  {
   "cell_type": "code",
   "execution_count": 34,
   "id": "59e2d781-de19-4365-9606-79f8e41e9f81",
   "metadata": {},
   "outputs": [
    {
     "data": {
      "text/plain": [
       "<tf.Tensor: shape=(), dtype=int64, numpy=14106>"
      ]
     },
     "execution_count": 34,
     "metadata": {},
     "output_type": "execute_result"
    }
   ],
   "source": [
    "# gs://spotify-beam-v3/v5/dif_artist_valid/-00000-of-00340.tfrecords\n",
    "\n",
    "# SAMPLE_FILE = \"gs://spotify-beam-v3/v5/dif_artist_valid/-00000-of-00340.tfrecords\" # 14122\n",
    "# SAMPLE_FILE = \"gs://spotify-beam-v3/v5/dif_artist_valid/-00001-of-00340.tfrecords\" # 14137\n",
    "SAMPLE_FILE = \"gs://spotify-beam-v3/v5/dif_artist_valid/-00002-of-00340.tfrecords\" # 14106\n",
    "raw_dataset = tf.data.TFRecordDataset(SAMPLE_FILE)\n",
    "\n",
    "cnt = raw_dataset.reduce(np.int64(0), lambda x, _: x + 1)\n",
    "cnt"
   ]
  },
  {
   "cell_type": "code",
   "execution_count": null,
   "id": "2a84786f-c942-4bc7-830c-74f9d6f66d43",
   "metadata": {},
   "outputs": [],
   "source": []
  },
  {
   "cell_type": "markdown",
   "id": "49a79219-8a00-4b4c-af2a-199cf2bd850c",
   "metadata": {},
   "source": [
    "## v5 - train"
   ]
  },
  {
   "cell_type": "code",
   "execution_count": 46,
   "id": "8b46b3b1-0897-4420-b19a-804257a9ad4e",
   "metadata": {},
   "outputs": [
    {
     "data": {
      "text/plain": [
       "<tf.Tensor: shape=(), dtype=int64, numpy=12662>"
      ]
     },
     "execution_count": 46,
     "metadata": {},
     "output_type": "execute_result"
    }
   ],
   "source": [
    "# gs://spotify-beam-v3/v5/train/-00000-of-03404.tfrecords\n",
    "\n",
    "# SAMPLE_FILE = \"gs://spotify-beam-v3/v5/train/-00000-of-03404.tfrecords\" # 12720\n",
    "# SAMPLE_FILE = \"gs://spotify-beam-v3/v5/train/-00001-of-03404.tfrecords\" # 12688\n",
    "SAMPLE_FILE = \"gs://spotify-beam-v3/v5/train/-00002-of-03404.tfrecords\" # 12662\n",
    "raw_dataset = tf.data.TFRecordDataset(SAMPLE_FILE)\n",
    "\n",
    "cnt = raw_dataset.reduce(np.int64(0), lambda x, _: x + 1)\n",
    "cnt"
   ]
  },
  {
   "cell_type": "code",
   "execution_count": null,
   "id": "429a235f-f4e8-488b-b9c7-282475446498",
   "metadata": {},
   "outputs": [],
   "source": []
  },
  {
   "cell_type": "markdown",
   "id": "46cc8f3c-04c5-4744-b104-11c2f1024639",
   "metadata": {},
   "source": [
    "## v5 - valid"
   ]
  },
  {
   "cell_type": "code",
   "execution_count": 49,
   "id": "1e658b79-87f7-4a33-ad7a-2d8915fcb917",
   "metadata": {},
   "outputs": [
    {
     "data": {
      "text/plain": [
       "<tf.Tensor: shape=(), dtype=int64, numpy=14152>"
      ]
     },
     "execution_count": 49,
     "metadata": {},
     "output_type": "execute_result"
    }
   ],
   "source": [
    "# gs://spotify-beam-v3/v5/valid/-00000-of-00340.tfrecords\n",
    "\n",
    "# SAMPLE_FILE = \"gs://spotify-beam-v3/v5/valid/-00000-of-00340.tfrecords\" # 14142\n",
    "# SAMPLE_FILE = \"gs://spotify-beam-v3/v5/valid/-00001-of-00340.tfrecords\" # 14126\n",
    "SAMPLE_FILE = \"gs://spotify-beam-v3/v5/valid/-00002-of-00340.tfrecords\" # 14152\n",
    "raw_dataset = tf.data.TFRecordDataset(SAMPLE_FILE)\n",
    "\n",
    "cnt = raw_dataset.reduce(np.int64(0), lambda x, _: x + 1)\n",
    "cnt"
   ]
  },
  {
   "cell_type": "code",
   "execution_count": null,
   "id": "404f7dad-b19b-4cbb-8f1d-2a8927cb2ac5",
   "metadata": {},
   "outputs": [],
   "source": []
  }
 ],
 "metadata": {
  "environment": {
   "kernel": "python3",
   "name": "tf2-gpu.2-9.m96",
   "type": "gcloud",
   "uri": "gcr.io/deeplearning-platform-release/tf2-gpu.2-9:m96"
  },
  "kernelspec": {
   "display_name": "Python 3",
   "language": "python",
   "name": "python3"
  },
  "language_info": {
   "codemirror_mode": {
    "name": "ipython",
    "version": 3
   },
   "file_extension": ".py",
   "mimetype": "text/x-python",
   "name": "python",
   "nbconvert_exporter": "python",
   "pygments_lexer": "ipython3",
   "version": "3.7.12"
  }
 },
 "nbformat": 4,
 "nbformat_minor": 5
}

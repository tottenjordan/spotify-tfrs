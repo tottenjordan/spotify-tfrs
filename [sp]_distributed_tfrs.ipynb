{
  "nbformat": 4,
  "nbformat_minor": 0,
  "metadata": {
    "colab": {
      "provenance": []
    },
    "kernelspec": {
      "name": "python3",
      "display_name": "Python 3"
    },
    "language_info": {
      "name": "python"
    }
  },
  "cells": [
    {
      "cell_type": "markdown",
      "source": [
        "# Distributed Training Notebook"
      ],
      "metadata": {
        "id": "FE-W6E3Cy66L"
      }
    },
    {
      "cell_type": "code",
      "execution_count": null,
      "metadata": {
        "id": "HtMh17BUy6Pc"
      },
      "outputs": [],
      "source": [
        "# from absl import app\n",
        "# from absl import flags\n",
        "# from absl import logging\n",
        "from google.cloud import aiplatform as vertex_ai\n",
        "import os\n",
        "import time\n",
        "\n",
        "import json\n",
        "import tensorflow as tf\n",
        "import tensorflow_recommenders as tfrs\n",
        "import tensorflow_io as tfio\n",
        "\n",
        "from google.cloud import storage\n",
        "\n",
        "import numpy as np\n",
        "import pickle as pkl\n",
        "from pprint import pprint"
      ]
    },
    {
      "cell_type": "code",
      "source": [
        "PREFIX = 'spotify-2tower'\n",
        "TB_DISPLAY_NAME = f'{PREFIX}-tensorboard'\n",
        "PROJECT= 'hybrid-vertex'\n",
        "REGION='us-central1'\n"
      ],
      "metadata": {
        "id": "HrKzx8b5zDHV"
      },
      "execution_count": null,
      "outputs": []
    },
    {
      "cell_type": "markdown",
      "source": [
        "## Initialize the Vertex SDK\n"
      ],
      "metadata": {
        "id": "fl0wbaRj0Khb"
      }
    },
    {
      "cell_type": "code",
      "source": [
        "# initialize vertex sdk\n",
        "vertex_ai.init(\n",
        "    project=PROJECT,\n",
        "    location=REGION,\n",
        "    staging_bucket=STAGING_BUCKET\n",
        ")"
      ],
      "metadata": {
        "id": "kj-KiRcvzfuk"
      },
      "execution_count": null,
      "outputs": []
    },
    {
      "cell_type": "markdown",
      "source": [
        "### Perepare Vertex Training Package\n",
        "\n"
      ],
      "metadata": {
        "id": "KZbeq5FC0NBf"
      }
    },
    {
      "cell_type": "code",
      "source": [
        "# Make folder for Python training script\n",
        "! rm -rf vertex_train/trainer\n",
        "! mkdir vertex_train/trainer"
      ],
      "metadata": {
        "id": "QLUTCt34zx3e"
      },
      "execution_count": null,
      "outputs": []
    },
    {
      "cell_type": "code",
      "source": [
        "%%writefile vertex_train/Dockerfile\n",
        "\n",
        "FROM gcr.io/deeplearning-platform-release/tf-gpu.2-9\n",
        "\n",
        "WORKDIR /\n",
        "\n",
        "# Copies the trainer code to the docker image.\n",
        "COPY trainer /trainer\n",
        "\n",
        "RUN pip install -r trainer/requirements.txt\n",
        "\n",
        "# Sets up the entry point to invoke the trainer.\n",
        "# ENTRYPOINT [\"python\", \"-m\", \"trainer.task\"]"
      ],
      "metadata": {
        "id": "DycTUCAx0UXZ"
      },
      "execution_count": null,
      "outputs": []
    },
    {
      "cell_type": "markdown",
      "source": [
        "Requirements"
      ],
      "metadata": {
        "id": "93dxYpL00XqU"
      }
    },
    {
      "cell_type": "code",
      "source": [
        "%%writefile vertex_train/trainer/requirements.txt\n",
        "\n",
        "tensorflow-recommenders==0.7.0\n",
        "tensorflow==2.9.2\n",
        "tensorboard==2.9.1\n",
        "tensorboard-data-server==0.6.1\n",
        "tensorboard-plugin-profile==2.5.0\n",
        "cloudml-hypertune"
      ],
      "metadata": {
        "id": "L3Xvv9Nc0YCw"
      },
      "execution_count": null,
      "outputs": []
    }
  ]
}
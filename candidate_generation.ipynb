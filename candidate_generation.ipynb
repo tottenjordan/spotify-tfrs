{
 "cells": [
  {
   "cell_type": "markdown",
   "id": "c05c9f96-ac82-4cbf-8ffb-ac941704b70d",
   "metadata": {},
   "source": [
    "# Feature extraction with the Candidate Tower\n",
    "\n",
    "After Two-Tower training, the `candidate_tower` is used to convert all candidate items into embeddings. \n",
    "\n",
    "The embeddings are indexed and deployed to an endpoint for serving."
   ]
  },
  {
   "cell_type": "code",
   "execution_count": 1,
   "id": "89dc7b1d-41fb-490d-b8d9-7de36151f0aa",
   "metadata": {},
   "outputs": [],
   "source": [
    "PROJECT_ID = 'hybrid-vertex'  # <--- TODO: CHANGE THIS\n",
    "LOCATION = 'us-central1' "
   ]
  },
  {
   "cell_type": "markdown",
   "id": "2511a2e4-4dfc-46d7-bbdd-ba2c2f1916d5",
   "metadata": {},
   "source": [
    "### pip & package"
   ]
  },
  {
   "cell_type": "code",
   "execution_count": null,
   "id": "80313a10-e712-4123-922e-1c86dc331744",
   "metadata": {},
   "outputs": [],
   "source": [
    "# pip install tensorflow-recommenders==0.7.0\n",
    "\n",
    "# pip install google-cloud-aiplatform==1.17.0\n",
    "# pip install tensorflow-recommenders==0.7.0\n",
    "\n",
    "# pip install tensorboard==2.9.1\n",
    "# pip install tensorboard-data-server==0.6.1\n",
    "# pip install tensorboard-plugin-profile==2.5.0\n",
    "# pip install cloudml-hypertune\n",
    "# pip install google-cloud-aiplatform[cloud_profiler]"
   ]
  },
  {
   "cell_type": "code",
   "execution_count": 35,
   "id": "e3f5def2-9026-4760-a7d3-bf297b9af6f9",
   "metadata": {},
   "outputs": [],
   "source": [
    "import json\n",
    "import tensorflow as tf\n",
    "import tensorflow_recommenders as tfrs\n",
    "import tensorflow_io as tfio\n",
    "\n",
    "from google.cloud import storage\n",
    "from google.cloud.storage.bucket import Bucket\n",
    "from google.cloud.storage.blob import Blob\n",
    "\n",
    "import google.cloud.aiplatform as vertex_ai\n",
    "\n",
    "import numpy as np\n",
    "import pickle as pkl\n",
    "from pprint import pprint\n",
    "\n",
    "import os"
   ]
  },
  {
   "cell_type": "markdown",
   "id": "8e07f62b-1c4e-42c3-95f8-376e8526275f",
   "metadata": {},
   "source": [
    "## Load `SavedModel`"
   ]
  },
  {
   "cell_type": "code",
   "execution_count": 4,
   "id": "93002d44-2864-4bd8-bf38-7b0e87cbd09f",
   "metadata": {},
   "outputs": [
    {
     "name": "stderr",
     "output_type": "stream",
     "text": [
      "2022-09-21 17:21:42.186998: I tensorflow/stream_executor/cuda/cuda_gpu_executor.cc:975] successful NUMA node read from SysFS had negative value (-1), but there must be at least one NUMA node, so returning NUMA node zero\n",
      "2022-09-21 17:21:42.291367: I tensorflow/stream_executor/cuda/cuda_gpu_executor.cc:975] successful NUMA node read from SysFS had negative value (-1), but there must be at least one NUMA node, so returning NUMA node zero\n",
      "2022-09-21 17:21:42.293192: I tensorflow/stream_executor/cuda/cuda_gpu_executor.cc:975] successful NUMA node read from SysFS had negative value (-1), but there must be at least one NUMA node, so returning NUMA node zero\n",
      "2022-09-21 17:21:42.295500: I tensorflow/core/platform/cpu_feature_guard.cc:193] This TensorFlow binary is optimized with oneAPI Deep Neural Network Library (oneDNN) to use the following CPU instructions in performance-critical operations:  AVX2 FMA\n",
      "To enable them in other operations, rebuild TensorFlow with the appropriate compiler flags.\n",
      "2022-09-21 17:21:42.297884: I tensorflow/stream_executor/cuda/cuda_gpu_executor.cc:975] successful NUMA node read from SysFS had negative value (-1), but there must be at least one NUMA node, so returning NUMA node zero\n",
      "2022-09-21 17:21:42.299723: I tensorflow/stream_executor/cuda/cuda_gpu_executor.cc:975] successful NUMA node read from SysFS had negative value (-1), but there must be at least one NUMA node, so returning NUMA node zero\n",
      "2022-09-21 17:21:42.301404: I tensorflow/stream_executor/cuda/cuda_gpu_executor.cc:975] successful NUMA node read from SysFS had negative value (-1), but there must be at least one NUMA node, so returning NUMA node zero\n",
      "2022-09-21 17:21:43.871349: I tensorflow/stream_executor/cuda/cuda_gpu_executor.cc:975] successful NUMA node read from SysFS had negative value (-1), but there must be at least one NUMA node, so returning NUMA node zero\n",
      "2022-09-21 17:21:43.873239: I tensorflow/stream_executor/cuda/cuda_gpu_executor.cc:975] successful NUMA node read from SysFS had negative value (-1), but there must be at least one NUMA node, so returning NUMA node zero\n",
      "2022-09-21 17:21:43.874845: I tensorflow/stream_executor/cuda/cuda_gpu_executor.cc:975] successful NUMA node read from SysFS had negative value (-1), but there must be at least one NUMA node, so returning NUMA node zero\n",
      "2022-09-21 17:21:43.876419: I tensorflow/core/common_runtime/gpu/gpu_device.cc:1532] Created device /job:localhost/replica:0/task:0/device:GPU:0 with 13596 MB memory:  -> device: 0, name: Tesla T4, pci bus id: 0000:00:04.0, compute capability: 7.5\n"
     ]
    },
    {
     "data": {
      "text/plain": [
       "_SignatureMap({'serving_default': <ConcreteFunction signature_wrapper(*, artist_pop_can, album_name_can, track_pop_can, album_uri_can, artist_genres_can, track_uri_can, artist_uri_can, artist_followers_can, track_name_can, artist_name_can, duration_ms_can) at 0x7F23B93D4F50>})"
      ]
     },
     "execution_count": 4,
     "metadata": {},
     "output_type": "execute_result"
    }
   ],
   "source": [
    "# gcs uri for SavedModel dir\n",
    "# candidate_tower_uri = 'gs://spotify-tfrs-dir/v2/run-20220920-210334/candidate_tower' # locally trained\n",
    "candidate_tower_uri = 'gs://spotify-tfrs-dir/v11/run-20220921-163503/candidate_tower' # vertex trained\n",
    "\n",
    "loaded_candidate_model = tf.saved_model.load(candidate_tower_uri)\n",
    "\n",
    "loaded_candidate_model.signatures"
   ]
  },
  {
   "cell_type": "code",
   "execution_count": 5,
   "id": "014ba5e9-1dbe-4330-baa7-cd217a241977",
   "metadata": {},
   "outputs": [
    {
     "name": "stdout",
     "output_type": "stream",
     "text": [
      "['serving_default']\n"
     ]
    }
   ],
   "source": [
    "print(list(loaded_candidate_model.signatures.keys()))"
   ]
  },
  {
   "cell_type": "code",
   "execution_count": 6,
   "id": "854e7e71-4bfb-444d-815a-4de0ca4517ee",
   "metadata": {},
   "outputs": [
    {
     "name": "stdout",
     "output_type": "stream",
     "text": [
      "{'output_1': TensorSpec(shape=(None, 32), dtype=tf.float32, name='output_1')}\n"
     ]
    }
   ],
   "source": [
    "candidate_predictor = loaded_candidate_model.signatures[\"serving_default\"]\n",
    "print(candidate_predictor.structured_outputs)"
   ]
  },
  {
   "cell_type": "code",
   "execution_count": 7,
   "id": "4a4c052e-0201-432a-9e37-406a19576799",
   "metadata": {},
   "outputs": [
    {
     "data": {
      "text/plain": [
       "{'output_1': TensorShape([None, 32])}"
      ]
     },
     "execution_count": 7,
     "metadata": {},
     "output_type": "execute_result"
    }
   ],
   "source": [
    "candidate_predictor.output_shapes"
   ]
  },
  {
   "cell_type": "markdown",
   "id": "0470ac8f-4b8c-4428-a926-70313a5ee643",
   "metadata": {},
   "source": [
    "## Candidate Dataset"
   ]
  },
  {
   "cell_type": "markdown",
   "id": "89e2a0d6-9aa7-4956-bcbf-c0b2a9796aa8",
   "metadata": {},
   "source": [
    "### Helper functions "
   ]
  },
  {
   "cell_type": "code",
   "execution_count": 9,
   "id": "4e5b3962-ef8c-4904-aa47-06a390a4a348",
   "metadata": {},
   "outputs": [],
   "source": [
    "storage_client = storage.Client(project=PROJECT_ID)"
   ]
  },
  {
   "cell_type": "code",
   "execution_count": 10,
   "id": "ff3491c8-9594-4873-bfc8-fed922d5ea8a",
   "metadata": {},
   "outputs": [],
   "source": [
    "candidate_features = {\n",
    "    'track_name_can': tf.io.FixedLenFeature(dtype=tf.string, shape=()),\n",
    "    'artist_name_can': tf.io.FixedLenFeature(dtype=tf.string, shape=()),\n",
    "    'album_name_can': tf.io.FixedLenFeature(dtype=tf.string, shape=()),\n",
    "    'track_uri_can': tf.io.FixedLenFeature(dtype=tf.string, shape=()),\n",
    "    'artist_uri_can': tf.io.FixedLenFeature(dtype=tf.string, shape=()),\n",
    "    'album_uri_can': tf.io.FixedLenFeature(dtype=tf.string, shape=()),\n",
    "    'duration_ms_can': tf.io.FixedLenFeature(dtype=tf.float32, shape=()),\n",
    "    'track_pop_can': tf.io.FixedLenFeature(dtype=tf.float32, shape=()),\n",
    "    'artist_pop_can': tf.io.FixedLenFeature(dtype=tf.float32, shape=()),\n",
    "    'artist_genres_can': tf.io.FixedLenFeature(dtype=tf.string, shape=()),\n",
    "    'artist_followers_can': tf.io.FixedLenFeature(dtype=tf.float32, shape=()),\n",
    "}\n",
    "\n",
    "def parse_candidate_tfrecord_fn(example):\n",
    "    example = tf.io.parse_single_example(\n",
    "        example, \n",
    "        features=candidate_features\n",
    "    )\n",
    "    return example"
   ]
  },
  {
   "cell_type": "markdown",
   "id": "8d428d34-3fc3-463e-b733-ed2b4e736933",
   "metadata": {},
   "source": [
    "# Candidate Records v1 \n",
    "* tf-records from JT's pre-Argolis Beam pipeline"
   ]
  },
  {
   "cell_type": "code",
   "execution_count": 17,
   "id": "bf9c2b67-6f24-4cbd-8ac4-3c39e1f12bc8",
   "metadata": {},
   "outputs": [],
   "source": [
    "SAMPLE_FILES = [\"gs://spotify-tfrecords-blog/tfrecords_v1/train/output-00000-of-00796.tfrecord\",\n",
    "              \"gs://spotify-tfrecords-blog/tfrecords_v1/train/output-00002-of-00796.tfrecord\"]\n",
    "\n",
    "raw_dataset = tf.data.TFRecordDataset(SAMPLE_FILES)"
   ]
  },
  {
   "cell_type": "code",
   "execution_count": 19,
   "id": "eebf3e7a-5f4e-4401-9f1c-7873fb31ddd1",
   "metadata": {},
   "outputs": [
    {
     "name": "stdout",
     "output_type": "stream",
     "text": [
      "{'album_name_can': <tf.Tensor: shape=(), dtype=string, numpy=b'Glee: The Music, The Complete Season Three'>,\n",
      " 'album_uri_can': <tf.Tensor: shape=(), dtype=string, numpy=b'spotify:album:082BH67sSIDefLxUp8GgNm'>,\n",
      " 'artist_followers_can': <tf.Tensor: shape=(), dtype=float32, numpy=1452611.0>,\n",
      " 'artist_genres_can': <tf.Tensor: shape=(), dtype=string, numpy=b\"'glee club', 'hollywood', 'post-teen pop'\">,\n",
      " 'artist_name_can': <tf.Tensor: shape=(), dtype=string, numpy=b'Glee Cast'>,\n",
      " 'artist_pop_can': <tf.Tensor: shape=(), dtype=float32, numpy=76.0>,\n",
      " 'artist_uri_can': <tf.Tensor: shape=(), dtype=string, numpy=b'spotify:artist:0SCbttzoZTnLFebDYmAWCm'>,\n",
      " 'duration_ms_can': <tf.Tensor: shape=(), dtype=float32, numpy=285493.0>,\n",
      " 'track_name_can': <tf.Tensor: shape=(), dtype=string, numpy=b'You Get What You Give (Glee Cast Version)'>,\n",
      " 'track_pop_can': <tf.Tensor: shape=(), dtype=float32, numpy=27.0>,\n",
      " 'track_uri_can': <tf.Tensor: shape=(), dtype=string, numpy=b'spotify:track:6KhJeYLg1AimCQjH6ii1Al'>}\n",
      "_______________\n"
     ]
    }
   ],
   "source": [
    "parsed_candidate_dataset_v1 = raw_dataset.map(parse_candidate_tfrecord_fn)\n",
    "\n",
    "for features in parsed_candidate_dataset_v1.take(1):\n",
    "    pprint(features)\n",
    "    print(\"_______________\")"
   ]
  },
  {
   "cell_type": "markdown",
   "id": "2bd867ac-625d-483e-9334-4e588b9b95d0",
   "metadata": {},
   "source": [
    "### Generate embeddings\n",
    "* use`candidate_predictor` to produce embeddings for each candidate item\n",
    "* store embeddings in list\n",
    "* zip candidate embeddings and candidate IDs together\n",
    "* write `json` or `csv` file for ANN Index  "
   ]
  },
  {
   "cell_type": "markdown",
   "id": "632fe17c-3975-4aed-8bee-9ebdb23a7045",
   "metadata": {},
   "source": [
    "### candidate embedding vectors"
   ]
  },
  {
   "cell_type": "code",
   "execution_count": 23,
   "id": "d61750d9-ca23-493e-a53c-ab20d76403f1",
   "metadata": {},
   "outputs": [
    {
     "name": "stdout",
     "output_type": "stream",
     "text": [
      "Length of embs: 166827\n"
     ]
    },
    {
     "data": {
      "text/plain": [
       "{'output_1': <tf.Tensor: shape=(1, 32), dtype=float32, numpy=\n",
       " array([[ 0.37292254,  0.12035738, -0.5353719 , -0.07446399, -0.01110614,\n",
       "          0.06166476, -0.41633704, -0.7236851 , -0.3176018 , -0.33124822,\n",
       "          0.01249374,  0.18589361, -0.02328215, -0.43030298, -0.28714353,\n",
       "          0.11682993,  0.16103686, -0.13076518,  0.33740237, -0.0402809 ,\n",
       "         -0.22093898,  0.24394853, -0.39488426, -0.2421201 , -0.26179013,\n",
       "          0.06631055,  0.09302226,  0.2791449 ,  0.20307502,  0.2394592 ,\n",
       "         -0.12311258,  0.15563585]], dtype=float32)>}"
      ]
     },
     "execution_count": 23,
     "metadata": {},
     "output_type": "execute_result"
    }
   ],
   "source": [
    "embs_iter = parsed_candidate_dataset_v1.batch(1).map(\n",
    "    lambda data: candidate_predictor(\n",
    "        artist_name_can = data[\"artist_name_can\"],\n",
    "        track_name_can = data['track_name_can'],\n",
    "        album_name_can = data['album_name_can'],\n",
    "        track_uri_can = data['track_uri_can'],\n",
    "        artist_uri_can = data['artist_uri_can'],\n",
    "        album_uri_can = data['album_uri_can'],\n",
    "        duration_ms_can = data['duration_ms_can'],\n",
    "        track_pop_can = data['track_pop_can'],\n",
    "        artist_pop_can = data['artist_pop_can'],\n",
    "        artist_followers_can = data['artist_followers_can'],\n",
    "        artist_genres_can = data['artist_genres_can']\n",
    "    )\n",
    ")\n",
    "\n",
    "embs = []\n",
    "for emb in embs_iter:\n",
    "    embs.append(emb)\n",
    "    \n",
    "print(f\"Length of embs: {len(embs)}\")\n",
    "embs[0]"
   ]
  },
  {
   "cell_type": "markdown",
   "id": "185b6ca3-fa74-4406-b52d-a9f4fc2311c7",
   "metadata": {},
   "source": [
    "Clean embedding output..."
   ]
  },
  {
   "cell_type": "code",
   "execution_count": 24,
   "id": "e4b33166-2956-4508-92cb-ea183b671460",
   "metadata": {},
   "outputs": [
    {
     "name": "stdout",
     "output_type": "stream",
     "text": [
      "Length of cleaned_embs: 166827\n"
     ]
    },
    {
     "data": {
      "text/plain": [
       "array([ 0.37292254,  0.12035738, -0.5353719 , -0.07446399, -0.01110614,\n",
       "        0.06166476, -0.41633704, -0.7236851 , -0.3176018 , -0.33124822,\n",
       "        0.01249374,  0.18589361, -0.02328215, -0.43030298, -0.28714353,\n",
       "        0.11682993,  0.16103686, -0.13076518,  0.33740237, -0.0402809 ,\n",
       "       -0.22093898,  0.24394853, -0.39488426, -0.2421201 , -0.26179013,\n",
       "        0.06631055,  0.09302226,  0.2791449 ,  0.20307502,  0.2394592 ,\n",
       "       -0.12311258,  0.15563585], dtype=float32)"
      ]
     },
     "execution_count": 24,
     "metadata": {},
     "output_type": "execute_result"
    }
   ],
   "source": [
    "cleaned_embs = [x['output_1'].numpy()[0] for x in embs] #clean up the output\n",
    "\n",
    "print(f\"Length of cleaned_embs: {len(cleaned_embs)}\")\n",
    "cleaned_embs[0]"
   ]
  },
  {
   "cell_type": "markdown",
   "id": "0d02bfa9-b6dc-48ed-9803-dd889c33c2df",
   "metadata": {},
   "source": [
    "### candidate IDs"
   ]
  },
  {
   "cell_type": "code",
   "execution_count": 25,
   "id": "5608e81b-f034-4b1b-8380-a0e80b9ed6c2",
   "metadata": {},
   "outputs": [
    {
     "data": {
      "text/plain": [
       "b'spotify:track:6KhJeYLg1AimCQjH6ii1Al'"
      ]
     },
     "execution_count": 25,
     "metadata": {},
     "output_type": "execute_result"
    }
   ],
   "source": [
    "# clean product IDs\n",
    "track_uris = [x['track_uri_can'].numpy() for x in parsed_candidate_dataset_v1]\n",
    "track_uris[0]"
   ]
  },
  {
   "cell_type": "code",
   "execution_count": 26,
   "id": "78a2a089-3a00-422f-bcd7-50bce7b0c0bd",
   "metadata": {},
   "outputs": [
    {
     "data": {
      "text/plain": [
       "'spotify:track:6KhJeYLg1AimCQjH6ii1Al'"
      ]
     },
     "execution_count": 26,
     "metadata": {},
     "output_type": "execute_result"
    }
   ],
   "source": [
    "track_uris_cleaned = [str(z).replace(\"b'\",\"\").replace(\"'\",\"\") for z in track_uris]\n",
    "track_uris_cleaned[0]"
   ]
  },
  {
   "cell_type": "code",
   "execution_count": 27,
   "id": "4532639f-edb9-4bad-af3c-ecad4cc5002c",
   "metadata": {},
   "outputs": [
    {
     "name": "stdout",
     "output_type": "stream",
     "text": [
      "Length of track_uris: 166827\n",
      "Length of track_uris_cleaned: 166827\n"
     ]
    }
   ],
   "source": [
    "print(f\"Length of track_uris: {len(track_uris)}\")\n",
    "print(f\"Length of track_uris_cleaned: {len(track_uris_cleaned)}\")"
   ]
  },
  {
   "cell_type": "markdown",
   "id": "04298950-8f26-45b5-b66d-f15d03c43fc6",
   "metadata": {},
   "source": [
    "### Check for bad records"
   ]
  },
  {
   "cell_type": "code",
   "execution_count": 45,
   "id": "c8111411-3099-4b59-b174-20ecbd708031",
   "metadata": {},
   "outputs": [
    {
     "data": {
      "text/plain": [
       "array([ 0.37292254,  0.12035738, -0.5353719 , -0.07446399, -0.01110614,\n",
       "        0.06166476, -0.41633704, -0.7236851 , -0.3176018 , -0.33124822,\n",
       "        0.01249374,  0.18589361, -0.02328215, -0.43030298, -0.28714353,\n",
       "        0.11682993,  0.16103686, -0.13076518,  0.33740237, -0.0402809 ,\n",
       "       -0.22093898,  0.24394853, -0.39488426, -0.2421201 , -0.26179013,\n",
       "        0.06631055,  0.09302226,  0.2791449 ,  0.20307502,  0.2394592 ,\n",
       "       -0.12311258,  0.15563585], dtype=float32)"
      ]
     },
     "execution_count": 45,
     "metadata": {},
     "output_type": "execute_result"
    }
   ],
   "source": [
    "cleaned_embs[0]"
   ]
  },
  {
   "cell_type": "code",
   "execution_count": 46,
   "id": "63c5db35-e868-4c45-a751-1d6c467d8b26",
   "metadata": {},
   "outputs": [
    {
     "name": "stdout",
     "output_type": "stream",
     "text": [
      "bad_records: 4608\n",
      "bad_record_filter: 144\n"
     ]
    }
   ],
   "source": [
    "bad_records = []\n",
    "\n",
    "for i, emb in enumerate(cleaned_embs):\n",
    "    bool_emb = np.isnan(emb)\n",
    "    for val in bool_emb:\n",
    "        if val:\n",
    "            bad_records.append(i)\n",
    "            \n",
    "bad_record_filter = np.unique(bad_records)\n",
    "\n",
    "print(f\"bad_records: {len(bad_records)}\")\n",
    "print(f\"bad_record_filter: {len(bad_record_filter)}\")"
   ]
  },
  {
   "cell_type": "code",
   "execution_count": 47,
   "id": "65e436f2-2ade-4688-836a-5c63e89e75dc",
   "metadata": {},
   "outputs": [
    {
     "data": {
      "text/plain": [
       "1823"
      ]
     },
     "execution_count": 47,
     "metadata": {},
     "output_type": "execute_result"
    }
   ],
   "source": [
    "bad_record_filter[0]"
   ]
  },
  {
   "cell_type": "code",
   "execution_count": 48,
   "id": "818d78f5-8775-492f-8d50-b86babd67562",
   "metadata": {},
   "outputs": [],
   "source": [
    "track_uris_valid = []\n",
    "emb_valid = []\n",
    "\n",
    "for i, pair in enumerate(zip(track_uris_cleaned, cleaned_embs)):\n",
    "    if i in bad_record_filter:\n",
    "        pass\n",
    "    else:\n",
    "        t_uri, embed = pair\n",
    "        track_uris_valid.append(t_uri)\n",
    "        emb_valid.append(embed)"
   ]
  },
  {
   "cell_type": "code",
   "execution_count": 51,
   "id": "a122f08a-8a61-44bc-9b42-2b2ec6278b79",
   "metadata": {},
   "outputs": [
    {
     "data": {
      "text/plain": [
       "array([ 0.37292254,  0.12035738, -0.5353719 , -0.07446399, -0.01110614,\n",
       "        0.06166476, -0.41633704, -0.7236851 , -0.3176018 , -0.33124822,\n",
       "        0.01249374,  0.18589361, -0.02328215, -0.43030298, -0.28714353,\n",
       "        0.11682993,  0.16103686, -0.13076518,  0.33740237, -0.0402809 ,\n",
       "       -0.22093898,  0.24394853, -0.39488426, -0.2421201 , -0.26179013,\n",
       "        0.06631055,  0.09302226,  0.2791449 ,  0.20307502,  0.2394592 ,\n",
       "       -0.12311258,  0.15563585], dtype=float32)"
      ]
     },
     "execution_count": 51,
     "metadata": {},
     "output_type": "execute_result"
    }
   ],
   "source": [
    "emb_valid[0]"
   ]
  },
  {
   "cell_type": "markdown",
   "id": "aa7930cb-05aa-40b1-8017-9d9c24d16efd",
   "metadata": {},
   "source": [
    "### Write embedding vectors to json file"
   ]
  },
  {
   "cell_type": "code",
   "execution_count": 52,
   "id": "96ebf525-a7b8-45cb-9fed-c5cda5e94698",
   "metadata": {},
   "outputs": [],
   "source": [
    "VERSION = 'local_v2'\n",
    "TIMESTAMP = '092122'\n",
    "\n",
    "embeddings_index_filename = f'candidate_embeddings_{VERSION}_{TIMESTAMP}.json'\n",
    "\n",
    "with open(f'{embeddings_index_filename}', 'w') as f:\n",
    "    for prod, emb in zip(track_uris_valid, emb_valid):\n",
    "        f.write('{\"id\":\"' + str(prod) + '\",')\n",
    "        f.write('\"embedding\":[' + \",\".join(str(x) for x in list(emb)) + \"]}\")\n",
    "        f.write(\"\\n\")"
   ]
  },
  {
   "cell_type": "markdown",
   "id": "159def87-70f3-4e99-b57f-7f4e197e581e",
   "metadata": {},
   "source": [
    "### Upload `json` to GCS"
   ]
  },
  {
   "cell_type": "code",
   "execution_count": 53,
   "id": "03d9dc21-8b7f-4434-8d0d-6f445f375e3e",
   "metadata": {},
   "outputs": [
    {
     "name": "stdout",
     "output_type": "stream",
     "text": [
      "INDEX_GCS_URI: gs://spotify-tfrs-dir/v11/run-20220921-163503/candidate-index/\n"
     ]
    }
   ],
   "source": [
    "BUCKET = 'spotify-tfrs-dir'\n",
    "PATH_TO_INDEX_DIR = 'v11/run-20220921-163503/candidate-index'\n",
    "INDEX_GCS_URI = f'gs://{BUCKET}/{PATH_TO_INDEX_DIR}/'\n",
    "\n",
    "print(f\"INDEX_GCS_URI: {INDEX_GCS_URI}\")\n",
    "\n",
    "DESTINATION_BLOB_NAME = embeddings_index_filename\n",
    "SOURCE_FILE_NAME = embeddings_index_filename\n",
    "\n",
    "# spotify-tfrs/candidate_embeddings_local_v2_092122.json\n",
    "\n",
    "blob = Blob.from_string(os.path.join(INDEX_GCS_URI, DESTINATION_BLOB_NAME))\n",
    "blob.bucket._client = storage_client\n",
    "blob.upload_from_filename(SOURCE_FILE_NAME)"
   ]
  },
  {
   "cell_type": "code",
   "execution_count": 38,
   "id": "df9565da-ecc2-4263-a833-7cb040fb1b70",
   "metadata": {},
   "outputs": [],
   "source": [
    "# CONTENTS_DELTA_URI = 'spotify-tfrs-dir/v11/run-20220921-163503/candidate-index'\n",
    "\n",
    "# gs://spotify-tfrs-dir/v11/run-20220921-163503/candidate-index/candidate_embeddings_local_v2_092122.json\n",
    "\n",
    "# import json\n",
    "\n",
    "# with open(f'{SOURCE_FILE_NAME}', 'r') as f:\n",
    "#     data = json.load(f)"
   ]
  },
  {
   "cell_type": "markdown",
   "id": "80e078de-bfe6-4aab-b183-233661755549",
   "metadata": {},
   "source": [
    "## Create Indexes"
   ]
  },
  {
   "cell_type": "code",
   "execution_count": 39,
   "id": "818d2a79-9cee-4773-a409-50f886574205",
   "metadata": {},
   "outputs": [],
   "source": [
    "# initialize \n",
    "\n",
    "vertex_ai.init(project=PROJECT_ID, location=LOCATION)"
   ]
  },
  {
   "cell_type": "markdown",
   "id": "4aa6ac18-c24f-41db-bedf-6bddc23cbc89",
   "metadata": {},
   "source": [
    "[src code](https://github.com/googleapis/python-aiplatform/blob/main/google/cloud/aiplatform/matching_engine/matching_engine_index.py#L404) for creating index with Matching Engine SDK"
   ]
  },
  {
   "cell_type": "code",
   "execution_count": 40,
   "id": "6de6a816-6854-49f0-b8b2-a4182e49e120",
   "metadata": {},
   "outputs": [
    {
     "data": {
      "text/plain": [
       "'local_v2'"
      ]
     },
     "execution_count": 40,
     "metadata": {},
     "output_type": "execute_result"
    }
   ],
   "source": [
    "VERSION"
   ]
  },
  {
   "cell_type": "code",
   "execution_count": 54,
   "id": "29b3b178-e4a2-4755-a7db-59d19bfca305",
   "metadata": {},
   "outputs": [
    {
     "name": "stdout",
     "output_type": "stream",
     "text": [
      "{'approx_neighbors': '25',\n",
      " 'dimensions': '32',\n",
      " 'distance_measure': 'DOT_PRODUCT_DISTANCE',\n",
      " 'leaf_node_embedding_count': '500',\n",
      " 'leaf_nodes_search_percent': '7',\n",
      " 'version': 'local_v2'}\n"
     ]
    }
   ],
   "source": [
    "# ANN Index\n",
    "display_name = f'spotify_candidate_index_{VERSION}'\n",
    "dimensions = 32\n",
    "approximate_neighbors_count=25\n",
    "distance_measure_type=\"DOT_PRODUCT_DISTANCE\"\n",
    "leaf_node_embedding_count=500\n",
    "leaf_nodes_to_search_percent=7\n",
    "# update_type='BatchUpdate'\n",
    "emb_index_gcs_bucket_uri=INDEX_GCS_URI # directory path to embedding json\n",
    "\n",
    "ann_index_labels={\n",
    "    'version': f'{VERSION}',\n",
    "    'dimensions': f'{dimensions}',\n",
    "    'approx_neighbors': f'{approximate_neighbors_count}',\n",
    "    'distance_measure': f'{distance_measure_type}',\n",
    "    'leaf_node_embedding_count': f'{leaf_node_embedding_count}',\n",
    "    'leaf_nodes_search_percent': f'{leaf_nodes_to_search_percent}',\n",
    "    # 'update_type': f'{update_type}',\n",
    "}\n",
    "\n",
    "pprint(ann_index_labels)"
   ]
  },
  {
   "cell_type": "markdown",
   "id": "3e0a7bf3-088b-461f-87cd-104f459f21b2",
   "metadata": {},
   "source": [
    "### Create Index \n",
    "\n",
    "* github tutorial notebook for [matching_engine_sdk](https://github.com/GoogleCloudPlatform/vertex-ai-samples/blob/main/notebooks/official/matching_engine/sdk_matching_engine_for_indexing.ipynb)\n",
    "* [Docs](https://cloud.google.com/vertex-ai/docs/matching-engine/configuring-indexes)\n",
    "\n",
    "> this may take up to 45 minutes..."
   ]
  },
  {
   "cell_type": "code",
   "execution_count": 55,
   "id": "143c0c5b-6cde-4c4f-bd18-dbd7fbe539fe",
   "metadata": {},
   "outputs": [
    {
     "name": "stdout",
     "output_type": "stream",
     "text": [
      "Creating MatchingEngineIndex\n",
      "Create MatchingEngineIndex backing LRO: projects/934903580331/locations/us-central1/indexes/6447588961836597248/operations/3695012522831642624\n",
      "MatchingEngineIndex created. Resource name: projects/934903580331/locations/us-central1/indexes/6447588961836597248\n",
      "To use this MatchingEngineIndex in another session:\n",
      "index = aiplatform.MatchingEngineIndex('projects/934903580331/locations/us-central1/indexes/6447588961836597248')\n",
      "Index created Elapsed time: 2620.1704621315002\n",
      "To use in another session: projects/934903580331/locations/us-central1/indexes/6447588961836597248\n"
     ]
    }
   ],
   "source": [
    "import time\n",
    "\n",
    "start_time = time.time()\n",
    "\n",
    "ann_index = vertex_ai.MatchingEngineIndex.create_tree_ah_index(\n",
    "    display_name=f'{display_name}',\n",
    "    contents_delta_uri=emb_index_gcs_bucket_uri,\n",
    "    dimensions=dimensions,\n",
    "    approximate_neighbors_count=approximate_neighbors_count,\n",
    "    distance_measure_type=distance_measure_type,\n",
    "    leaf_node_embedding_count=leaf_node_embedding_count,\n",
    "    leaf_nodes_to_search_percent=leaf_nodes_to_search_percent,\n",
    "    description=display_name,\n",
    "    labels=ann_index_labels,\n",
    ")\n",
    "\n",
    "end_time = time.time()\n",
    "elapsed_time = end_time - start_time\n",
    "ann_index_resource_uri = ann_index.resource_name\n",
    "\n",
    "print(f\"Index created Elapsed time: {elapsed_time}\")\n",
    "print(f\"To use in another session: {ann_index_resource_uri}\")"
   ]
  },
  {
   "cell_type": "markdown",
   "id": "206acc3a-ba39-4e68-8c63-48aac26da1b1",
   "metadata": {},
   "source": [
    "### Create Index Endpoint"
   ]
  },
  {
   "cell_type": "code",
   "execution_count": null,
   "id": "461a44b2-8222-46b1-816a-ca149527bef7",
   "metadata": {},
   "outputs": [],
   "source": []
  },
  {
   "cell_type": "markdown",
   "id": "797bfd64-f5e5-46b9-a845-a8ea02e1c7d6",
   "metadata": {},
   "source": [
    "### Deploy Index to Endpoint"
   ]
  },
  {
   "cell_type": "code",
   "execution_count": null,
   "id": "fe71db31-d5a4-44b8-8dc4-ad8f9d5cf8aa",
   "metadata": {},
   "outputs": [],
   "source": []
  },
  {
   "cell_type": "markdown",
   "id": "d00cd1fd-2ff6-4340-a758-1264906d6ae8",
   "metadata": {},
   "source": [
    "### Query Index "
   ]
  },
  {
   "cell_type": "code",
   "execution_count": null,
   "id": "de62ce0c-ec0b-4005-86f3-ad40a5270785",
   "metadata": {},
   "outputs": [],
   "source": []
  },
  {
   "cell_type": "markdown",
   "id": "2762bd6f-c8ea-426a-bc6a-4da85c58268e",
   "metadata": {},
   "source": [
    "# Candidate Records v2 \n",
    "* tf-records from JW's recent Beam pipeline"
   ]
  },
  {
   "cell_type": "code",
   "execution_count": 56,
   "id": "e06c6b93-a776-49fe-9f9c-e1558b5c344d",
   "metadata": {},
   "outputs": [
    {
     "data": {
      "text/plain": [
       "['gs://spotify-beam-v3/v3/candidates/-00000-of-00008.tfrecords',\n",
       " 'gs://spotify-beam-v3/v3/candidates/-00001-of-00008.tfrecords',\n",
       " 'gs://spotify-beam-v3/v3/candidates/-00002-of-00008.tfrecords',\n",
       " 'gs://spotify-beam-v3/v3/candidates/-00003-of-00008.tfrecords',\n",
       " 'gs://spotify-beam-v3/v3/candidates/-00004-of-00008.tfrecords',\n",
       " 'gs://spotify-beam-v3/v3/candidates/-00005-of-00008.tfrecords',\n",
       " 'gs://spotify-beam-v3/v3/candidates/-00006-of-00008.tfrecords',\n",
       " 'gs://spotify-beam-v3/v3/candidates/-00007-of-00008.tfrecords']"
      ]
     },
     "execution_count": 56,
     "metadata": {},
     "output_type": "execute_result"
    }
   ],
   "source": [
    "# candidate_dir = 'gs://spotify-beam-v3/v3/candidates'\n",
    "CANDIDATE_BUCKET = 'spotify-beam-v3'\n",
    "CANDIDATE_PREFIX = 'v3/candidates/'\n",
    "\n",
    "candidate_files = []\n",
    "for blob in storage_client.list_blobs(f'{CANDIDATE_BUCKET}', prefix=f'{CANDIDATE_PREFIX}', delimiter=\"/\"):\n",
    "    candidate_files.append(blob.public_url.replace(\"https://storage.googleapis.com/\", \"gs://\"))\n",
    "\n",
    "candidate_files"
   ]
  },
  {
   "cell_type": "code",
   "execution_count": 57,
   "id": "d93fd13e-99b5-4925-8cf7-fa9ebc7ebc35",
   "metadata": {},
   "outputs": [],
   "source": [
    "# Parse train dataset\n",
    "raw_candidate_dataset = tf.data.TFRecordDataset(candidate_files)\n",
    "parsed_candidate_dataset = raw_candidate_dataset.map(parse_candidate_tfrecord_fn)"
   ]
  },
  {
   "cell_type": "code",
   "execution_count": 58,
   "id": "b9b2c949-e6e9-4b6f-8940-5473e94de8c3",
   "metadata": {},
   "outputs": [
    {
     "data": {
      "text/plain": [
       "<MapDataset element_spec={'album_name_can': TensorSpec(shape=(), dtype=tf.string, name=None), 'album_uri_can': TensorSpec(shape=(), dtype=tf.string, name=None), 'artist_followers_can': TensorSpec(shape=(), dtype=tf.float32, name=None), 'artist_genres_can': TensorSpec(shape=(), dtype=tf.string, name=None), 'artist_name_can': TensorSpec(shape=(), dtype=tf.string, name=None), 'artist_pop_can': TensorSpec(shape=(), dtype=tf.float32, name=None), 'artist_uri_can': TensorSpec(shape=(), dtype=tf.string, name=None), 'duration_ms_can': TensorSpec(shape=(), dtype=tf.float32, name=None), 'track_name_can': TensorSpec(shape=(), dtype=tf.string, name=None), 'track_pop_can': TensorSpec(shape=(), dtype=tf.float32, name=None), 'track_uri_can': TensorSpec(shape=(), dtype=tf.string, name=None)}>"
      ]
     },
     "execution_count": 58,
     "metadata": {},
     "output_type": "execute_result"
    }
   ],
   "source": [
    "parsed_candidate_dataset"
   ]
  },
  {
   "cell_type": "code",
   "execution_count": 59,
   "id": "6df5c2f6-cc57-49af-bc6d-0584fde98466",
   "metadata": {},
   "outputs": [
    {
     "name": "stdout",
     "output_type": "stream",
     "text": [
      "{'album_name_can': <tf.Tensor: shape=(), dtype=string, numpy=b'The Sound of Everything Rmx'>,\n",
      " 'album_uri_can': <tf.Tensor: shape=(), dtype=string, numpy=b'spotify:album:4a8tMD6qq6GUuUwNae38VI'>,\n",
      " 'artist_followers_can': <tf.Tensor: shape=(), dtype=float32, numpy=277649.0>,\n",
      " 'artist_genres_can': <tf.Tensor: shape=(), dtype=string, numpy=b\"'downtempo', 'electronica', 'funk', 'latin alternative', 'nu jazz', 'nu-cumbia', 'trip hop', 'world'\">,\n",
      " 'artist_name_can': <tf.Tensor: shape=(), dtype=string, numpy=b'Quantic'>,\n",
      " 'artist_pop_can': <tf.Tensor: shape=(), dtype=float32, numpy=64.0>,\n",
      " 'artist_uri_can': <tf.Tensor: shape=(), dtype=string, numpy=b'spotify:artist:5ZMwoAjeDtLJ0XRwRTgaK8'>,\n",
      " 'duration_ms_can': <tf.Tensor: shape=(), dtype=float32, numpy=267130.0>,\n",
      " 'track_name_can': <tf.Tensor: shape=(), dtype=string, numpy=b'The Sound of Everything - Watch TV & Se\\xc3\\xb1orlobo Remix'>,\n",
      " 'track_pop_can': <tf.Tensor: shape=(), dtype=float32, numpy=53.0>,\n",
      " 'track_uri_can': <tf.Tensor: shape=(), dtype=string, numpy=b'spotify:track:27CDzo2P7Mf3dKoa76tNxb'>}\n",
      "_______________\n"
     ]
    }
   ],
   "source": [
    "# TEST_small = shuffled_parsed_ds.skip(80_000).take(20_000).batch(128)\n",
    "\n",
    "for features in parsed_candidate_dataset.take(1):\n",
    "    pprint(features)\n",
    "    print(\"_______________\")"
   ]
  },
  {
   "cell_type": "markdown",
   "id": "a44a1e95-1912-4976-af01-79f60eec2f32",
   "metadata": {},
   "source": [
    "### Generate Embeddings"
   ]
  },
  {
   "cell_type": "markdown",
   "id": "4eb5345c-8f24-4df7-ae67-00126325bde3",
   "metadata": {},
   "source": [
    "### Candidate embedding vectors"
   ]
  },
  {
   "cell_type": "code",
   "execution_count": 60,
   "id": "72d53512-2593-4da4-b489-1d3b0ce6dd52",
   "metadata": {},
   "outputs": [
    {
     "name": "stdout",
     "output_type": "stream",
     "text": [
      "Length of embs: 2249561\n"
     ]
    },
    {
     "data": {
      "text/plain": [
       "{'output_1': <tf.Tensor: shape=(1, 32), dtype=float32, numpy=\n",
       " array([[ 0.01181636,  0.3014134 , -0.42354333, -0.99971014,  0.24810879,\n",
       "          0.065205  , -0.44993484, -0.59487194, -0.25165173, -0.8841798 ,\n",
       "          0.33247462,  0.33106828, -0.1390458 , -0.364905  , -0.51437426,\n",
       "          0.36792147,  0.14636928,  0.20347618,  0.4378496 , -0.01698672,\n",
       "         -0.4043599 ,  0.05605474, -0.4586042 ,  0.6386781 , -0.14450541,\n",
       "          0.02818127, -0.33449343, -0.04326751,  0.20794246, -0.09052821,\n",
       "          0.18821722, -0.35916686]], dtype=float32)>}"
      ]
     },
     "execution_count": 60,
     "metadata": {},
     "output_type": "execute_result"
    }
   ],
   "source": [
    "embs_iter = parsed_candidate_dataset.batch(1).map(\n",
    "    lambda data: candidate_predictor(\n",
    "        artist_name_can = data[\"artist_name_can\"],\n",
    "        track_name_can = data['track_name_can'],\n",
    "        album_name_can = data['album_name_can'],\n",
    "        track_uri_can = data['track_uri_can'],\n",
    "        artist_uri_can = data['artist_uri_can'],\n",
    "        album_uri_can = data['album_uri_can'],\n",
    "        duration_ms_can = data['duration_ms_can'],\n",
    "        track_pop_can = data['track_pop_can'],\n",
    "        artist_pop_can = data['artist_pop_can'],\n",
    "        artist_followers_can = data['artist_followers_can'],\n",
    "        artist_genres_can = data['artist_genres_can']\n",
    "    )\n",
    ")\n",
    "\n",
    "embs = []\n",
    "for emb in embs_iter:\n",
    "    embs.append(emb)\n",
    "    \n",
    "print(f\"Length of embs: {len(embs)}\")\n",
    "embs[0]"
   ]
  },
  {
   "cell_type": "code",
   "execution_count": 61,
   "id": "a15a6011-f7f0-4e98-a4cf-a64f1d0797e5",
   "metadata": {},
   "outputs": [
    {
     "name": "stdout",
     "output_type": "stream",
     "text": [
      "Length of cleaned_embs: 2249561\n"
     ]
    },
    {
     "data": {
      "text/plain": [
       "array([ 0.01181636,  0.3014134 , -0.42354333, -0.99971014,  0.24810879,\n",
       "        0.065205  , -0.44993484, -0.59487194, -0.25165173, -0.8841798 ,\n",
       "        0.33247462,  0.33106828, -0.1390458 , -0.364905  , -0.51437426,\n",
       "        0.36792147,  0.14636928,  0.20347618,  0.4378496 , -0.01698672,\n",
       "       -0.4043599 ,  0.05605474, -0.4586042 ,  0.6386781 , -0.14450541,\n",
       "        0.02818127, -0.33449343, -0.04326751,  0.20794246, -0.09052821,\n",
       "        0.18821722, -0.35916686], dtype=float32)"
      ]
     },
     "execution_count": 61,
     "metadata": {},
     "output_type": "execute_result"
    }
   ],
   "source": [
    "cleaned_embs = [x['output_1'].numpy()[0] for x in embs] #clean up the output\n",
    "\n",
    "print(f\"Length of cleaned_embs: {len(cleaned_embs)}\")\n",
    "cleaned_embs[0]"
   ]
  },
  {
   "cell_type": "markdown",
   "id": "cf01b81f-6215-4412-8f3a-535f30341968",
   "metadata": {},
   "source": [
    "### candidate IDs"
   ]
  },
  {
   "cell_type": "code",
   "execution_count": null,
   "id": "3ec465da-37d7-4776-be80-50805940f168",
   "metadata": {},
   "outputs": [],
   "source": []
  },
  {
   "cell_type": "markdown",
   "id": "83235b30-c574-47bd-a4ba-f9fa7da7415a",
   "metadata": {},
   "source": [
    "### Check for bad records"
   ]
  },
  {
   "cell_type": "code",
   "execution_count": null,
   "id": "98841fcb-61ee-4a21-ac3c-1b211fb51835",
   "metadata": {},
   "outputs": [],
   "source": []
  },
  {
   "cell_type": "markdown",
   "id": "713cef5c-8cc6-4116-8dec-efe605fd53ac",
   "metadata": {},
   "source": [
    "### Write emebdding vectors to json file"
   ]
  },
  {
   "cell_type": "code",
   "execution_count": null,
   "id": "c025e617-5d33-4479-b16d-5c460f8202d8",
   "metadata": {},
   "outputs": [],
   "source": []
  },
  {
   "cell_type": "markdown",
   "id": "cddb59e8-e17b-424d-8151-77035307a073",
   "metadata": {},
   "source": [
    "### Uplaod `json` to GCS"
   ]
  },
  {
   "cell_type": "code",
   "execution_count": null,
   "id": "7c161c08-6878-477c-bdf4-fd790e48621c",
   "metadata": {},
   "outputs": [],
   "source": []
  }
 ],
 "metadata": {
  "environment": {
   "kernel": "python3",
   "name": "tf2-gpu.2-9.m96",
   "type": "gcloud",
   "uri": "gcr.io/deeplearning-platform-release/tf2-gpu.2-9:m96"
  },
  "kernelspec": {
   "display_name": "Python 3",
   "language": "python",
   "name": "python3"
  },
  "language_info": {
   "codemirror_mode": {
    "name": "ipython",
    "version": 3
   },
   "file_extension": ".py",
   "mimetype": "text/x-python",
   "name": "python",
   "nbconvert_exporter": "python",
   "pygments_lexer": "ipython3",
   "version": "3.7.12"
  }
 },
 "nbformat": 4,
 "nbformat_minor": 5
}

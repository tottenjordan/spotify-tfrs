{
 "cells": [
  {
   "cell_type": "markdown",
   "id": "505c4ab2-e411-4cc9-ba25-b29cfcb816c8",
   "metadata": {},
   "source": [
    "### Adapts\n",
    "\n",
    "> See [here](https://github.com/jswortz/two-tower/blob/master/tower_pipes/build_vocabs_string_lookups.py)"
   ]
  },
  {
   "cell_type": "code",
   "execution_count": null,
   "id": "36ea22aa-5a8e-40de-b94b-31357d21486c",
   "metadata": {},
   "outputs": [],
   "source": []
  }
 ],
 "metadata": {
  "environment": {
   "kernel": "python3",
   "name": "tf2-gpu.2-9.m96",
   "type": "gcloud",
   "uri": "gcr.io/deeplearning-platform-release/tf2-gpu.2-9:m96"
  },
  "kernelspec": {
   "display_name": "Python 3",
   "language": "python",
   "name": "python3"
  },
  "language_info": {
   "codemirror_mode": {
    "name": "ipython",
    "version": 3
   },
   "file_extension": ".py",
   "mimetype": "text/x-python",
   "name": "python",
   "nbconvert_exporter": "python",
   "pygments_lexer": "ipython3",
   "version": "3.7.12"
  }
 },
 "nbformat": 4,
 "nbformat_minor": 5
}
